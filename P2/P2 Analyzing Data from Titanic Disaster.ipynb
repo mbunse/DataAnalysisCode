{
 "cells": [
  {
   "cell_type": "markdown",
   "metadata": {},
   "source": [
    "# P2 Analyzing Data from Titanic Disaster\n",
    "I choose the Titanic disaster data set since as a German I am not so familiar with baseball."
   ]
  },
  {
   "cell_type": "markdown",
   "metadata": {},
   "source": [
    "# Questions to be asked\n",
    "The dataset provides information on the survival of the passengers included. Therefore, it is naturally an interesting question to ask if the data set contains any hints that some subgroup of people did more likely survived the disaster than others.\n",
    "\n",
    "Another question is how much the passengers paid in the various passengers classes. "
   ]
  },
  {
   "cell_type": "markdown",
   "metadata": {},
   "source": [
    "## The dataset\n",
    "The dataset provided contains 891 entries representing 891 of the 2224 passengers and crew on board the Titanic. Since I could not find more information on the subset of passengers the data has been taken from I assume that the sample is representative for all passengers, when I draw my conclusions.\n",
    "\n",
    "The survived flag indicates whether the respective person did survive. 62 % of the passengers, i.e. 549, did not survive the disaster."
   ]
  },
  {
   "cell_type": "code",
   "execution_count": 2,
   "metadata": {
    "collapsed": false
   },
   "outputs": [],
   "source": [
    "# Importing libraries, general settings\n",
    "import pandas as pd\n",
    "import csv \n",
    "import numpy as np\n",
    "import matplotlib.pyplot as plt\n",
    "import seaborn as sns\n",
    "import math\n",
    "%matplotlib inline"
   ]
  },
  {
   "cell_type": "code",
   "execution_count": 5,
   "metadata": {
    "collapsed": false
   },
   "outputs": [
    {
     "name": "stdout",
     "output_type": "stream",
     "text": [
      "Number of rows: 891\n",
      "Columns\n",
      "Index([u'PassengerId', u'Survived', u'Pclass', u'Name', u'Sex', u'Age',\n",
      "       u'SibSp', u'Parch', u'Ticket', u'Fare', u'Cabin', u'Embarked'],\n",
      "      dtype='object')\n",
      "891\n",
      "<class 'pandas.core.frame.DataFrame'>\n",
      "RangeIndex: 891 entries, 0 to 890\n",
      "Data columns (total 12 columns):\n",
      "PassengerId    891 non-null int64\n",
      "Survived       891 non-null int64\n",
      "Pclass         891 non-null int64\n",
      "Name           891 non-null object\n",
      "Sex            891 non-null object\n",
      "Age            714 non-null float64\n",
      "SibSp          891 non-null int64\n",
      "Parch          891 non-null int64\n",
      "Ticket         891 non-null object\n",
      "Fare           891 non-null float64\n",
      "Cabin          204 non-null object\n",
      "Embarked       889 non-null object\n",
      "dtypes: float64(2), int64(5), object(5)\n",
      "memory usage: 83.6+ KB\n"
     ]
    }
   ],
   "source": [
    "#Importing the data\n",
    "fulldata = pd.read_csv(\"titanic-data.csv\")\n",
    "print \"Number of rows:\", len(fulldata)\n",
    "print \"Columns\"\n",
    "print fulldata.columns\n",
    "n_passengers = len(fulldata)\n",
    "print n_passengers\n"
   ]
  },
  {
   "cell_type": "markdown",
   "metadata": {},
   "source": [
    "In the following I check all the columns for strange data"
   ]
  },
  {
   "cell_type": "code",
   "execution_count": 7,
   "metadata": {
    "collapsed": false
   },
   "outputs": [
    {
     "name": "stdout",
     "output_type": "stream",
     "text": [
      "<class 'pandas.core.frame.DataFrame'>\n",
      "RangeIndex: 891 entries, 0 to 890\n",
      "Data columns (total 12 columns):\n",
      "PassengerId    891 non-null int64\n",
      "Survived       891 non-null int64\n",
      "Pclass         891 non-null int64\n",
      "Name           891 non-null object\n",
      "Sex            891 non-null object\n",
      "Age            714 non-null float64\n",
      "SibSp          891 non-null int64\n",
      "Parch          891 non-null int64\n",
      "Ticket         891 non-null object\n",
      "Fare           891 non-null float64\n",
      "Cabin          204 non-null object\n",
      "Embarked       889 non-null object\n",
      "dtypes: float64(2), int64(5), object(5)\n",
      "memory usage: 83.6+ KB\n"
     ]
    }
   ],
   "source": [
    "# Print information on dataset:\n",
    "fulldata.info()"
   ]
  },
  {
   "cell_type": "code",
   "execution_count": 8,
   "metadata": {
    "collapsed": false
   },
   "outputs": [
    {
     "name": "stdout",
     "output_type": "stream",
     "text": [
      "count    891.000000\n",
      "mean       0.383838\n",
      "std        0.486592\n",
      "min        0.000000\n",
      "25%        0.000000\n",
      "50%        0.000000\n",
      "75%        1.000000\n",
      "max        1.000000\n",
      "Name: Survived, dtype: float64\n",
      "Survived:  342 , died:  549  (61.62 %)\n"
     ]
    },
    {
     "data": {
      "text/plain": [
       "array([549, 342], dtype=int64)"
      ]
     },
     "execution_count": 8,
     "metadata": {},
     "output_type": "execute_result"
    },
    {
     "data": {
      "image/png": "[encoded data removed]",
      "text/plain": [
       "<matplotlib.figure.Figure at 0xc3b7eb8>"
      ]
     },
     "metadata": {},
     "output_type": "display_data"
    }
   ],
   "source": [
    "# Function to print column description and show histogram for a given column of a given dataframe\n",
    "def investigateColumn(df, columnName, nbins=10):\n",
    "    print df[columnName].describe()\n",
    "    plt.title(columnName)\n",
    "    plt.xlabel(columnName)\n",
    "    plt.ylabel(\"Number of passengers\")\n",
    "    if df[columnName].dtype <> np.float64:\n",
    "        df.groupby(columnName).count()[\"PassengerId\"].plot(kind=\"bar\")\n",
    "    else:\n",
    "        df[columnName].plot(kind=\"hist\", bins=nbins)\n",
    "\n",
    "investigateColumn(fulldata, \"Survived\")\n",
    "\n",
    "# Calculate number of survivors\n",
    "n_died = fulldata.groupby(\"Survived\").count()[\"PassengerId\"].values[0]\n",
    "n_survived = fulldata.groupby(\"Survived\").count()[\"PassengerId\"].values[1]\n",
    "print \"Survived: \", n_survived, \", died: \", n_died, \" (%.2f %%)\" % (n_died*100./n_passengers)\n",
    "fulldata.groupby(\"Survived\").count()[\"PassengerId\"].values"
   ]
  },
  {
   "cell_type": "code",
   "execution_count": null,
   "metadata": {
    "collapsed": false
   },
   "outputs": [],
   "source": [
    "investigateColumn(fulldata, \"Pclass\")"
   ]
  },
  {
   "cell_type": "code",
   "execution_count": 6,
   "metadata": {
    "collapsed": false
   },
   "outputs": [
    {
     "name": "stdout",
     "output_type": "stream",
     "text": [
      "First passenger's name:  Braund, Mr. Owen Harris\n"
     ]
    },
    {
     "data": {
      "text/plain": [
       "count                           891\n",
       "unique                          891\n",
       "top       Graham, Mr. George Edward\n",
       "freq                              1\n",
       "Name: Name, dtype: object"
      ]
     },
     "execution_count": 6,
     "metadata": {},
     "output_type": "execute_result"
    }
   ],
   "source": [
    "print \"First passenger's name: \", fulldata[\"Name\"][0]\n",
    "fulldata[\"Name\"].describe()"
   ]
  },
  {
   "cell_type": "markdown",
   "metadata": {},
   "source": [
    "# Sex\n",
    "The dataset contains data from 577 men and 314 women. "
   ]
  },
  {
   "cell_type": "code",
   "execution_count": 7,
   "metadata": {
    "collapsed": false
   },
   "outputs": [
    {
     "name": "stdout",
     "output_type": "stream",
     "text": [
      "count      891\n",
      "unique       2\n",
      "top       male\n",
      "freq       577\n",
      "Name: Sex, dtype: object\n",
      "['male' 'female']\n",
      "Number of female passengers: 314\n"
     ]
    },
    {
     "data": {
      "image/png": "[encoded data removed]",
      "text/plain": [
       "<matplotlib.figure.Figure at 0xc457b70>"
      ]
     },
     "metadata": {},
     "output_type": "display_data"
    }
   ],
   "source": [
    "investigateColumn(fulldata, \"Sex\")\n",
    "\n",
    "# Check that all passengers have an assigned sex\n",
    "print fulldata[\"Sex\"].unique()\n",
    "\n",
    "# Count female passengers\n",
    "print \"Number of female passengers:\", fulldata[fulldata[\"Sex\"]==\"female\"][\"Sex\"].count()\n"
   ]
  },
  {
   "cell_type": "markdown",
   "metadata": {},
   "source": [
    "## Age\n",
    "For 177 passengers (20 %) the age is missing. It looks a bit suspicious, that there is only one passenger age 23. This might be due to the selection of the subset of passengers but I was not able to find out more details about the subset. The mean age of the passengers is 29.7 years, while the mode is 24 (both calculated neglecting missing ages)."
   ]
  },
  {
   "cell_type": "code",
   "execution_count": 33,
   "metadata": {
    "collapsed": false
   },
   "outputs": [
    {
     "name": "stdout",
     "output_type": "stream",
     "text": [
      "count    714.000000\n",
      "mean      29.699118\n",
      "std       14.526497\n",
      "min        0.420000\n",
      "25%             NaN\n",
      "50%             NaN\n",
      "75%             NaN\n",
      "max       80.000000\n",
      "Name: Age, dtype: float64\n"
     ]
    },
    {
     "data": {
      "image/png": "[encoded data removed]",
      "text/plain": [
       "<matplotlib.figure.Figure at 0xcc9f668>"
      ]
     },
     "metadata": {},
     "output_type": "display_data"
    }
   ],
   "source": [
    "n_bins = int(math.ceil(fulldata[\"Age\"].max()+1))\n",
    "investigateColumn(fulldata, \"Age\")"
   ]
  },
  {
   "cell_type": "code",
   "execution_count": 35,
   "metadata": {
    "collapsed": false
   },
   "outputs": [
    {
     "name": "stdout",
     "output_type": "stream",
     "text": [
      "count    714.000000\n",
      "mean      29.699118\n",
      "std       14.526497\n",
      "min        0.420000\n",
      "25%             NaN\n",
      "50%             NaN\n",
      "75%             NaN\n",
      "max       80.000000\n",
      "Name: Age, dtype: float64\n",
      "Number of passengers with age missing: 177 (19.87 %)\n"
     ]
    }
   ],
   "source": [
    "print fulldata[\"Age\"].describe()\n",
    "n_missing_age = len(fulldata[fulldata[\"Age\"].isnull()][\"Age\"])\n",
    "print \"Number of passengers with age missing: %.0f (%.2f %%)\" % (n_missing_age, n_missing_age*100./len(fulldata) )"
   ]
  },
  {
   "cell_type": "markdown",
   "metadata": {},
   "source": [
    "## Relatives\n",
    "The dataset provides information about the number of relatives on board the Titanic. Only parents, children, siblings and spouse have been taken into account to build the data according to the description of the dataset.\n",
    "\n",
    "Most of the passengers were traveling without spouse or close relatives, according to the data.\n",
    "\n",
    "Source: https://www.kaggle.com/c/titanic/data"
   ]
  },
  {
   "cell_type": "code",
   "execution_count": 10,
   "metadata": {
    "collapsed": false
   },
   "outputs": [
    {
     "name": "stdout",
     "output_type": "stream",
     "text": [
      "count    891.000000\n",
      "mean       0.523008\n",
      "std        1.102743\n",
      "min        0.000000\n",
      "25%        0.000000\n",
      "50%        0.000000\n",
      "75%        1.000000\n",
      "max        8.000000\n",
      "Name: SibSp, dtype: float64\n"
     ]
    },
    {
     "data": {
      "image/png": "[encoded data removed]",
      "text/plain": [
       "<matplotlib.figure.Figure at 0xc5bbe48>"
      ]
     },
     "metadata": {},
     "output_type": "display_data"
    }
   ],
   "source": [
    "investigateColumn(fulldata, \"SibSp\")"
   ]
  },
  {
   "cell_type": "code",
   "execution_count": 11,
   "metadata": {
    "collapsed": false,
    "scrolled": true
   },
   "outputs": [
    {
     "name": "stdout",
     "output_type": "stream",
     "text": [
      "count    891.000000\n",
      "mean       0.381594\n",
      "std        0.806057\n",
      "min        0.000000\n",
      "25%        0.000000\n",
      "50%        0.000000\n",
      "75%        0.000000\n",
      "max        6.000000\n",
      "Name: Parch, dtype: float64\n"
     ]
    },
    {
     "data": {
      "image/png": "[encoded data removed]",
      "text/plain": [
       "<matplotlib.figure.Figure at 0xce5f0b8>"
      ]
     },
     "metadata": {},
     "output_type": "display_data"
    }
   ],
   "source": [
    "investigateColumn(fulldata, \"Parch\")"
   ]
  },
  {
   "cell_type": "code",
   "execution_count": 12,
   "metadata": {
    "collapsed": false
   },
   "outputs": [
    {
     "data": {
      "text/plain": [
       "<matplotlib.collections.PathCollection at 0xcedbbe0>"
      ]
     },
     "execution_count": 12,
     "metadata": {},
     "output_type": "execute_result"
    },
    {
     "data": {
      "image/png": "[encoded data removed]",
      "text/plain": [
       "<matplotlib.figure.Figure at 0xcd2abe0>"
      ]
     },
     "metadata": {},
     "output_type": "display_data"
    }
   ],
   "source": [
    "n_per_sibsp_parch = fulldata.groupby([\"Parch\", \"SibSp\"], as_index=False).count()\n",
    "plt.xlabel(\"Number of parents and children\")\n",
    "plt.ylabel(\"Number of sibblings and spouse\")\n",
    "plt.scatter(x=n_per_sibsp_parch[\"Parch\"], y=n_per_sibsp_parch[\"SibSp\"], s=n_per_sibsp_parch[\"PassengerId\"], label=n_per_sibsp_parch[\"PassengerId\"])"
   ]
  },
  {
   "cell_type": "markdown",
   "metadata": {},
   "source": [
    "## Tickets Numbers\n",
    "\n",
    "Some passengers share the same ticket number. E.g. the Anderson and the Sage family."
   ]
  },
  {
   "cell_type": "code",
   "execution_count": 13,
   "metadata": {
    "collapsed": false,
    "scrolled": true
   },
   "outputs": [
    {
     "name": "stdout",
     "output_type": "stream",
     "text": [
      "count          891\n",
      "unique         681\n",
      "top       CA. 2343\n",
      "freq             7\n",
      "Name: Ticket, dtype: object\n",
      "['1601' '347082' 'CA. 2343']\n",
      "     PassengerId  Survived  Pclass  \\\n",
      "74            75         1       3   \n",
      "838          839         1       3   \n",
      "826          827         0       3   \n",
      "169          170         0       3   \n",
      "692          693         1       3   \n",
      "643          644         1       3   \n",
      "509          510         1       3   \n",
      "13            14         0       3   \n",
      "813          814         0       3   \n",
      "610          611         0       3   \n",
      "542          543         0       3   \n",
      "541          542         0       3   \n",
      "119          120         0       3   \n",
      "850          851         0       3   \n",
      "324          325         0       3   \n",
      "201          202         0       3   \n",
      "792          793         0       3   \n",
      "180          181         0       3   \n",
      "159          160         0       3   \n",
      "846          847         0       3   \n",
      "863          864         0       3   \n",
      "\n",
      "                                                  Name     Sex   Age  SibSp  \\\n",
      "74                                       Bing, Mr. Lee    male  32.0      0   \n",
      "838                                    Chip, Mr. Chang    male  32.0      0   \n",
      "826                                       Lam, Mr. Len    male   NaN      0   \n",
      "169                                      Ling, Mr. Lee    male  28.0      0   \n",
      "692                                       Lam, Mr. Ali    male   NaN      0   \n",
      "643                                    Foo, Mr. Choong    male   NaN      0   \n",
      "509                                     Lang, Mr. Fang    male  26.0      0   \n",
      "13                         Andersson, Mr. Anders Johan    male  39.0      1   \n",
      "813                 Andersson, Miss. Ebba Iris Alfrida  female   6.0      4   \n",
      "610  Andersson, Mrs. Anders Johan (Alfrida Konstant...  female  39.0      1   \n",
      "542                  Andersson, Miss. Sigrid Elisabeth  female  11.0      4   \n",
      "541               Andersson, Miss. Ingeborg Constanzia  female   9.0      4   \n",
      "119                  Andersson, Miss. Ellis Anna Maria  female   2.0      4   \n",
      "850            Andersson, Master. Sigvard Harald Elias    male   4.0      4   \n",
      "324                           Sage, Mr. George John Jr    male   NaN      8   \n",
      "201                                Sage, Mr. Frederick    male   NaN      8   \n",
      "792                            Sage, Miss. Stella Anna  female   NaN      8   \n",
      "180                       Sage, Miss. Constance Gladys  female   NaN      8   \n",
      "159                         Sage, Master. Thomas Henry    male   NaN      8   \n",
      "846                           Sage, Mr. Douglas Bullen    male   NaN      8   \n",
      "863                  Sage, Miss. Dorothy Edith \"Dolly\"  female   NaN      8   \n",
      "\n",
      "     Parch    Ticket     Fare Cabin Embarked  \n",
      "74       0      1601  56.4958   NaN        S  \n",
      "838      0      1601  56.4958   NaN        S  \n",
      "826      0      1601  56.4958   NaN        S  \n",
      "169      0      1601  56.4958   NaN        S  \n",
      "692      0      1601  56.4958   NaN        S  \n",
      "643      0      1601  56.4958   NaN        S  \n",
      "509      0      1601  56.4958   NaN        S  \n",
      "13       5    347082  31.2750   NaN        S  \n",
      "813      2    347082  31.2750   NaN        S  \n",
      "610      5    347082  31.2750   NaN        S  \n",
      "542      2    347082  31.2750   NaN        S  \n",
      "541      2    347082  31.2750   NaN        S  \n",
      "119      2    347082  31.2750   NaN        S  \n",
      "850      2    347082  31.2750   NaN        S  \n",
      "324      2  CA. 2343  69.5500   NaN        S  \n",
      "201      2  CA. 2343  69.5500   NaN        S  \n",
      "792      2  CA. 2343  69.5500   NaN        S  \n",
      "180      2  CA. 2343  69.5500   NaN        S  \n",
      "159      2  CA. 2343  69.5500   NaN        S  \n",
      "846      2  CA. 2343  69.5500   NaN        S  \n",
      "863      2  CA. 2343  69.5500   NaN        S  \n"
     ]
    },
    {
     "data": {
      "image/png": "[encoded data removed]",
      "text/plain": [
       "<matplotlib.figure.Figure at 0xcd2a198>"
      ]
     },
     "metadata": {},
     "output_type": "display_data"
    }
   ],
   "source": [
    "investigateColumn(fulldata, \"Ticket\")\n",
    "\n",
    "# Group data by ticket number and count number of passengers per ticket number\n",
    "pass_per_ticket = fulldata.groupby(\"Ticket\").count()\n",
    "\n",
    "# Print ticket numbers for tickets that are shared between 7 or more people\n",
    "family_tickets = pass_per_ticket[pass_per_ticket[\"PassengerId\"]>=7].index.values\n",
    "print family_tickets\n",
    "\n",
    "# Print data for \"family\" tickets\n",
    "print fulldata[fulldata[\"Ticket\"].isin(family_tickets)].sort_values(by=\"Ticket\")"
   ]
  },
  {
   "cell_type": "markdown",
   "metadata": {},
   "source": [
    "### The Sage family\n",
    "More information on the Sage family can be found e.g. here: https://www.encyclopedia-titanica.org/the-sage-family-lost.html\n"
   ]
  },
  {
   "cell_type": "markdown",
   "metadata": {},
   "source": [
    "## Fares\n"
   ]
  },
  {
   "cell_type": "code",
   "execution_count": 36,
   "metadata": {
    "collapsed": false
   },
   "outputs": [
    {
     "name": "stdout",
     "output_type": "stream",
     "text": [
      "count    891.000000\n",
      "mean      32.204208\n",
      "std       49.693429\n",
      "min        0.000000\n",
      "25%        7.910400\n",
      "50%       14.454200\n",
      "75%       31.000000\n",
      "max      512.329200\n",
      "Name: Fare, dtype: float64\n"
     ]
    },
    {
     "data": {
      "image/png": "[encoded data removed]",
      "text/plain": [
       "<matplotlib.figure.Figure at 0x11b1f908>"
      ]
     },
     "metadata": {},
     "output_type": "display_data"
    },
    {
     "data": {
      "image/png": "[encoded data removed]",
      "text/plain": [
       "<matplotlib.figure.Figure at 0xdc0fc88>"
      ]
     },
     "metadata": {},
     "output_type": "display_data"
    }
   ],
   "source": [
    "investigateColumn(fulldata, \"Fare\")\n",
    "\n",
    "# Plot fare with a logarithmix x-axis\n",
    "plt.figure()\n",
    "fulldata[\"Fare\"].hist(bins=np.logspace(0.1,3, 25))\n",
    "plt.gca().set_xscale(\"log\")\n"
   ]
  },
  {
   "cell_type": "markdown",
   "metadata": {},
   "source": [
    "## Cabin\n",
    "For only 204 of the passengers a cabin is provided in the data."
   ]
  },
  {
   "cell_type": "code",
   "execution_count": 37,
   "metadata": {
    "collapsed": false
   },
   "outputs": [
    {
     "name": "stdout",
     "output_type": "stream",
     "text": [
      "count             204\n",
      "unique            147\n",
      "top       C23 C25 C27\n",
      "freq                4\n",
      "Name: Cabin, dtype: object\n",
      "0     NaN\n",
      "1     C85\n",
      "2     NaN\n",
      "3    C123\n",
      "4     NaN\n",
      "Name: Cabin, dtype: object\n",
      "Passengers without cabin in data: 687\n",
      "Passengers with cabin in data: 204\n"
     ]
    }
   ],
   "source": [
    "# Describe data in column\n",
    "print fulldata[\"Cabin\"].describe()\n",
    "\n",
    "# Print first rows of column \"Cabin\"\n",
    "print fulldata[\"Cabin\"].head()\n",
    "\n",
    "# Count number of passengers without an assigned cabin\n",
    "n_cabin_missing = fulldata[\"Cabin\"].isnull().sum()\n",
    "\n",
    "print \"Passengers without cabin in data:\", n_cabin_missing\n",
    "print \"Passengers with cabin in data:\", n_passengers - n_cabin_missing"
   ]
  },
  {
   "cell_type": "markdown",
   "metadata": {},
   "source": [
    "## Embarked\n",
    "Most of the passengers embarked in Southampton (72 %). The fewest embarked in Queenstown (9 %). C stands for Cherbourg, Q for Queenstown and S for Southampton."
   ]
  },
  {
   "cell_type": "code",
   "execution_count": 38,
   "metadata": {
    "collapsed": false
   },
   "outputs": [
    {
     "name": "stdout",
     "output_type": "stream",
     "text": [
      "count     889\n",
      "unique      3\n",
      "top         S\n",
      "freq      644\n",
      "Name: Embarked, dtype: object\n"
     ]
    },
    {
     "data": {
      "image/png": "[encoded data removed]",
      "text/plain": [
       "<matplotlib.figure.Figure at 0xccd47b8>"
      ]
     },
     "metadata": {},
     "output_type": "display_data"
    }
   ],
   "source": [
    "investigateColumn(fulldata, \"Embarked\")"
   ]
  },
  {
   "cell_type": "markdown",
   "metadata": {},
   "source": [
    "# Data Cleaning and Enhancement\n",
    "Some ages of the passengers are missing. During the rest of the analysis I keep that in mind but I do not want to give those people default ages since this would have an impact on calculated statistics.\n",
    "\n",
    "It became also clear, that some people share the same ticket numbers. I want to check whether the fares are provided as fares per ticket or per passenger. \n",
    "\n",
    "I also want to extract family names from the passenger names. "
   ]
  },
  {
   "cell_type": "markdown",
   "metadata": {},
   "source": [
    "## Fares \n",
    "Some fares are 0. Some of those have a ticket \"LINE\". There are also seven passenger with regular ticket numbers with a 0 fare. As a cross-check I searched the internet for Mr. William Harrison. It seemed, that he has been a regular paying passenger in the first class with a presumed connection to the White Star Line. Also, Mr. William Parr seems to have a connection to the White Star Line. I also searched the internet for information on the owners of the \"LINE\" tickets. It seemed, that they are usual passenger. I might be that these 0 fares a due to missing data.\n",
    "\n",
    "Most of the passengers paid less than 10 pound.\n",
    "\n",
    "Source: https://www.encyclopedia-titanica.org/"
   ]
  },
  {
   "cell_type": "code",
   "execution_count": 40,
   "metadata": {
    "collapsed": false
   },
   "outputs": [
    {
     "data": {
      "text/html": [
       "<div>\n",
       "<table border=\"1\" class=\"dataframe\">\n",
       "  <thead>\n",
       "    <tr style=\"text-align: right;\">\n",
       "      <th></th>\n",
       "      <th>Ticket</th>\n",
       "      <th>Fare</th>\n",
       "      <th>Name</th>\n",
       "      <th>Survived</th>\n",
       "    </tr>\n",
       "  </thead>\n",
       "  <tbody>\n",
       "    <tr>\n",
       "      <th>179</th>\n",
       "      <td>LINE</td>\n",
       "      <td>0.0</td>\n",
       "      <td>Leonard, Mr. Lionel</td>\n",
       "      <td>0</td>\n",
       "    </tr>\n",
       "    <tr>\n",
       "      <th>263</th>\n",
       "      <td>112059</td>\n",
       "      <td>0.0</td>\n",
       "      <td>Harrison, Mr. William</td>\n",
       "      <td>0</td>\n",
       "    </tr>\n",
       "    <tr>\n",
       "      <th>271</th>\n",
       "      <td>LINE</td>\n",
       "      <td>0.0</td>\n",
       "      <td>Tornquist, Mr. William Henry</td>\n",
       "      <td>1</td>\n",
       "    </tr>\n",
       "    <tr>\n",
       "      <th>277</th>\n",
       "      <td>239853</td>\n",
       "      <td>0.0</td>\n",
       "      <td>Parkes, Mr. Francis \"Frank\"</td>\n",
       "      <td>0</td>\n",
       "    </tr>\n",
       "    <tr>\n",
       "      <th>302</th>\n",
       "      <td>LINE</td>\n",
       "      <td>0.0</td>\n",
       "      <td>Johnson, Mr. William Cahoone Jr</td>\n",
       "      <td>0</td>\n",
       "    </tr>\n",
       "    <tr>\n",
       "      <th>413</th>\n",
       "      <td>239853</td>\n",
       "      <td>0.0</td>\n",
       "      <td>Cunningham, Mr. Alfred Fleming</td>\n",
       "      <td>0</td>\n",
       "    </tr>\n",
       "    <tr>\n",
       "      <th>466</th>\n",
       "      <td>239853</td>\n",
       "      <td>0.0</td>\n",
       "      <td>Campbell, Mr. William</td>\n",
       "      <td>0</td>\n",
       "    </tr>\n",
       "    <tr>\n",
       "      <th>481</th>\n",
       "      <td>239854</td>\n",
       "      <td>0.0</td>\n",
       "      <td>Frost, Mr. Anthony Wood \"Archie\"</td>\n",
       "      <td>0</td>\n",
       "    </tr>\n",
       "    <tr>\n",
       "      <th>597</th>\n",
       "      <td>LINE</td>\n",
       "      <td>0.0</td>\n",
       "      <td>Johnson, Mr. Alfred</td>\n",
       "      <td>0</td>\n",
       "    </tr>\n",
       "    <tr>\n",
       "      <th>633</th>\n",
       "      <td>112052</td>\n",
       "      <td>0.0</td>\n",
       "      <td>Parr, Mr. William Henry Marsh</td>\n",
       "      <td>0</td>\n",
       "    </tr>\n",
       "    <tr>\n",
       "      <th>674</th>\n",
       "      <td>239856</td>\n",
       "      <td>0.0</td>\n",
       "      <td>Watson, Mr. Ennis Hastings</td>\n",
       "      <td>0</td>\n",
       "    </tr>\n",
       "    <tr>\n",
       "      <th>732</th>\n",
       "      <td>239855</td>\n",
       "      <td>0.0</td>\n",
       "      <td>Knight, Mr. Robert J</td>\n",
       "      <td>0</td>\n",
       "    </tr>\n",
       "    <tr>\n",
       "      <th>806</th>\n",
       "      <td>112050</td>\n",
       "      <td>0.0</td>\n",
       "      <td>Andrews, Mr. Thomas Jr</td>\n",
       "      <td>0</td>\n",
       "    </tr>\n",
       "    <tr>\n",
       "      <th>815</th>\n",
       "      <td>112058</td>\n",
       "      <td>0.0</td>\n",
       "      <td>Fry, Mr. Richard</td>\n",
       "      <td>0</td>\n",
       "    </tr>\n",
       "    <tr>\n",
       "      <th>822</th>\n",
       "      <td>19972</td>\n",
       "      <td>0.0</td>\n",
       "      <td>Reuchlin, Jonkheer. John George</td>\n",
       "      <td>0</td>\n",
       "    </tr>\n",
       "  </tbody>\n",
       "</table>\n",
       "</div>"
      ],
      "text/plain": [
       "     Ticket  Fare                              Name  Survived\n",
       "179    LINE   0.0               Leonard, Mr. Lionel         0\n",
       "263  112059   0.0             Harrison, Mr. William         0\n",
       "271    LINE   0.0      Tornquist, Mr. William Henry         1\n",
       "277  239853   0.0       Parkes, Mr. Francis \"Frank\"         0\n",
       "302    LINE   0.0   Johnson, Mr. William Cahoone Jr         0\n",
       "413  239853   0.0    Cunningham, Mr. Alfred Fleming         0\n",
       "466  239853   0.0             Campbell, Mr. William         0\n",
       "481  239854   0.0  Frost, Mr. Anthony Wood \"Archie\"         0\n",
       "597    LINE   0.0               Johnson, Mr. Alfred         0\n",
       "633  112052   0.0     Parr, Mr. William Henry Marsh         0\n",
       "674  239856   0.0        Watson, Mr. Ennis Hastings         0\n",
       "732  239855   0.0              Knight, Mr. Robert J         0\n",
       "806  112050   0.0            Andrews, Mr. Thomas Jr         0\n",
       "815  112058   0.0                  Fry, Mr. Richard         0\n",
       "822   19972   0.0   Reuchlin, Jonkheer. John George         0"
      ]
     },
     "execution_count": 40,
     "metadata": {},
     "output_type": "execute_result"
    }
   ],
   "source": [
    "fulldata[fulldata[\"Fare\"]==0][[\"Ticket\", \"Fare\", \"Name\", \"Survived\"]]"
   ]
  },
  {
   "cell_type": "code",
   "execution_count": 41,
   "metadata": {
    "collapsed": false
   },
   "outputs": [
    {
     "name": "stdout",
     "output_type": "stream",
     "text": [
      "Mean:\n",
      "Pclass\n",
      "1    84.154687\n",
      "2    20.662183\n",
      "3    13.675550\n",
      "Name: Fare, dtype: float64\n",
      "\n",
      "Standard deviation:\n",
      "Pclass\n",
      "1    78.380373\n",
      "2    13.417399\n",
      "3    11.778142\n",
      "Name: Fare, dtype: float64\n",
      "\n",
      "Minimum: \n",
      "Pclass\n",
      "1    0.0\n",
      "2    0.0\n",
      "3    0.0\n",
      "Name: Fare, dtype: float64\n",
      "\n",
      "Minimum: \n",
      "Pclass\n",
      "1    512.3292\n",
      "2     73.5000\n",
      "3     69.5500\n",
      "Name: Fare, dtype: float64\n"
     ]
    }
   ],
   "source": [
    "print \"Mean:\\n\", fulldata.groupby(\"Pclass\")[\"Fare\"].mean()\n",
    "print \"\\nStandard deviation:\\n\", fulldata.groupby(\"Pclass\")[\"Fare\"].std()\n",
    "print \"\\nMinimum: \\n\", fulldata.groupby(\"Pclass\")[\"Fare\"].min()\n",
    "print \"\\nMinimum: \\n\", fulldata.groupby(\"Pclass\")[\"Fare\"].max()"
   ]
  },
  {
   "cell_type": "markdown",
   "metadata": {},
   "source": [
    "It seems, that the fare for some 3rd class tickets have been quite large. I want to check, whether these tickets are group or family tickets. I check that by looking at the ticket numbers within the 39.55 and 69.55 pound in the third class."
   ]
  },
  {
   "cell_type": "code",
   "execution_count": 42,
   "metadata": {
    "collapsed": false
   },
   "outputs": [
    {
     "data": {
      "text/html": [
       "<div>\n",
       "<table border=\"1\" class=\"dataframe\">\n",
       "  <thead>\n",
       "    <tr style=\"text-align: right;\">\n",
       "      <th></th>\n",
       "      <th>PassengerId</th>\n",
       "      <th>Survived</th>\n",
       "      <th>Pclass</th>\n",
       "      <th>Name</th>\n",
       "      <th>Sex</th>\n",
       "      <th>Age</th>\n",
       "      <th>SibSp</th>\n",
       "      <th>Parch</th>\n",
       "      <th>Ticket</th>\n",
       "      <th>Fare</th>\n",
       "      <th>Cabin</th>\n",
       "      <th>Embarked</th>\n",
       "    </tr>\n",
       "  </thead>\n",
       "  <tbody>\n",
       "    <tr>\n",
       "      <th>50</th>\n",
       "      <td>51</td>\n",
       "      <td>0</td>\n",
       "      <td>3</td>\n",
       "      <td>Panula, Master. Juha Niilo</td>\n",
       "      <td>male</td>\n",
       "      <td>7.0</td>\n",
       "      <td>4</td>\n",
       "      <td>1</td>\n",
       "      <td>3101295</td>\n",
       "      <td>39.6875</td>\n",
       "      <td>NaN</td>\n",
       "      <td>S</td>\n",
       "    </tr>\n",
       "    <tr>\n",
       "      <th>59</th>\n",
       "      <td>60</td>\n",
       "      <td>0</td>\n",
       "      <td>3</td>\n",
       "      <td>Goodwin, Master. William Frederick</td>\n",
       "      <td>male</td>\n",
       "      <td>11.0</td>\n",
       "      <td>5</td>\n",
       "      <td>2</td>\n",
       "      <td>CA 2144</td>\n",
       "      <td>46.9000</td>\n",
       "      <td>NaN</td>\n",
       "      <td>S</td>\n",
       "    </tr>\n",
       "    <tr>\n",
       "      <th>71</th>\n",
       "      <td>72</td>\n",
       "      <td>0</td>\n",
       "      <td>3</td>\n",
       "      <td>Goodwin, Miss. Lillian Amy</td>\n",
       "      <td>female</td>\n",
       "      <td>16.0</td>\n",
       "      <td>5</td>\n",
       "      <td>2</td>\n",
       "      <td>CA 2144</td>\n",
       "      <td>46.9000</td>\n",
       "      <td>NaN</td>\n",
       "      <td>S</td>\n",
       "    </tr>\n",
       "    <tr>\n",
       "      <th>74</th>\n",
       "      <td>75</td>\n",
       "      <td>1</td>\n",
       "      <td>3</td>\n",
       "      <td>Bing, Mr. Lee</td>\n",
       "      <td>male</td>\n",
       "      <td>32.0</td>\n",
       "      <td>0</td>\n",
       "      <td>0</td>\n",
       "      <td>1601</td>\n",
       "      <td>56.4958</td>\n",
       "      <td>NaN</td>\n",
       "      <td>S</td>\n",
       "    </tr>\n",
       "    <tr>\n",
       "      <th>159</th>\n",
       "      <td>160</td>\n",
       "      <td>0</td>\n",
       "      <td>3</td>\n",
       "      <td>Sage, Master. Thomas Henry</td>\n",
       "      <td>male</td>\n",
       "      <td>NaN</td>\n",
       "      <td>8</td>\n",
       "      <td>2</td>\n",
       "      <td>CA. 2343</td>\n",
       "      <td>69.5500</td>\n",
       "      <td>NaN</td>\n",
       "      <td>S</td>\n",
       "    </tr>\n",
       "    <tr>\n",
       "      <th>164</th>\n",
       "      <td>165</td>\n",
       "      <td>0</td>\n",
       "      <td>3</td>\n",
       "      <td>Panula, Master. Eino Viljami</td>\n",
       "      <td>male</td>\n",
       "      <td>1.0</td>\n",
       "      <td>4</td>\n",
       "      <td>1</td>\n",
       "      <td>3101295</td>\n",
       "      <td>39.6875</td>\n",
       "      <td>NaN</td>\n",
       "      <td>S</td>\n",
       "    </tr>\n",
       "    <tr>\n",
       "      <th>169</th>\n",
       "      <td>170</td>\n",
       "      <td>0</td>\n",
       "      <td>3</td>\n",
       "      <td>Ling, Mr. Lee</td>\n",
       "      <td>male</td>\n",
       "      <td>28.0</td>\n",
       "      <td>0</td>\n",
       "      <td>0</td>\n",
       "      <td>1601</td>\n",
       "      <td>56.4958</td>\n",
       "      <td>NaN</td>\n",
       "      <td>S</td>\n",
       "    </tr>\n",
       "    <tr>\n",
       "      <th>180</th>\n",
       "      <td>181</td>\n",
       "      <td>0</td>\n",
       "      <td>3</td>\n",
       "      <td>Sage, Miss. Constance Gladys</td>\n",
       "      <td>female</td>\n",
       "      <td>NaN</td>\n",
       "      <td>8</td>\n",
       "      <td>2</td>\n",
       "      <td>CA. 2343</td>\n",
       "      <td>69.5500</td>\n",
       "      <td>NaN</td>\n",
       "      <td>S</td>\n",
       "    </tr>\n",
       "    <tr>\n",
       "      <th>201</th>\n",
       "      <td>202</td>\n",
       "      <td>0</td>\n",
       "      <td>3</td>\n",
       "      <td>Sage, Mr. Frederick</td>\n",
       "      <td>male</td>\n",
       "      <td>NaN</td>\n",
       "      <td>8</td>\n",
       "      <td>2</td>\n",
       "      <td>CA. 2343</td>\n",
       "      <td>69.5500</td>\n",
       "      <td>NaN</td>\n",
       "      <td>S</td>\n",
       "    </tr>\n",
       "    <tr>\n",
       "      <th>266</th>\n",
       "      <td>267</td>\n",
       "      <td>0</td>\n",
       "      <td>3</td>\n",
       "      <td>Panula, Mr. Ernesti Arvid</td>\n",
       "      <td>male</td>\n",
       "      <td>16.0</td>\n",
       "      <td>4</td>\n",
       "      <td>1</td>\n",
       "      <td>3101295</td>\n",
       "      <td>39.6875</td>\n",
       "      <td>NaN</td>\n",
       "      <td>S</td>\n",
       "    </tr>\n",
       "    <tr>\n",
       "      <th>324</th>\n",
       "      <td>325</td>\n",
       "      <td>0</td>\n",
       "      <td>3</td>\n",
       "      <td>Sage, Mr. George John Jr</td>\n",
       "      <td>male</td>\n",
       "      <td>NaN</td>\n",
       "      <td>8</td>\n",
       "      <td>2</td>\n",
       "      <td>CA. 2343</td>\n",
       "      <td>69.5500</td>\n",
       "      <td>NaN</td>\n",
       "      <td>S</td>\n",
       "    </tr>\n",
       "    <tr>\n",
       "      <th>386</th>\n",
       "      <td>387</td>\n",
       "      <td>0</td>\n",
       "      <td>3</td>\n",
       "      <td>Goodwin, Master. Sidney Leonard</td>\n",
       "      <td>male</td>\n",
       "      <td>1.0</td>\n",
       "      <td>5</td>\n",
       "      <td>2</td>\n",
       "      <td>CA 2144</td>\n",
       "      <td>46.9000</td>\n",
       "      <td>NaN</td>\n",
       "      <td>S</td>\n",
       "    </tr>\n",
       "    <tr>\n",
       "      <th>480</th>\n",
       "      <td>481</td>\n",
       "      <td>0</td>\n",
       "      <td>3</td>\n",
       "      <td>Goodwin, Master. Harold Victor</td>\n",
       "      <td>male</td>\n",
       "      <td>9.0</td>\n",
       "      <td>5</td>\n",
       "      <td>2</td>\n",
       "      <td>CA 2144</td>\n",
       "      <td>46.9000</td>\n",
       "      <td>NaN</td>\n",
       "      <td>S</td>\n",
       "    </tr>\n",
       "    <tr>\n",
       "      <th>509</th>\n",
       "      <td>510</td>\n",
       "      <td>1</td>\n",
       "      <td>3</td>\n",
       "      <td>Lang, Mr. Fang</td>\n",
       "      <td>male</td>\n",
       "      <td>26.0</td>\n",
       "      <td>0</td>\n",
       "      <td>0</td>\n",
       "      <td>1601</td>\n",
       "      <td>56.4958</td>\n",
       "      <td>NaN</td>\n",
       "      <td>S</td>\n",
       "    </tr>\n",
       "    <tr>\n",
       "      <th>638</th>\n",
       "      <td>639</td>\n",
       "      <td>0</td>\n",
       "      <td>3</td>\n",
       "      <td>Panula, Mrs. Juha (Maria Emilia Ojala)</td>\n",
       "      <td>female</td>\n",
       "      <td>41.0</td>\n",
       "      <td>0</td>\n",
       "      <td>5</td>\n",
       "      <td>3101295</td>\n",
       "      <td>39.6875</td>\n",
       "      <td>NaN</td>\n",
       "      <td>S</td>\n",
       "    </tr>\n",
       "    <tr>\n",
       "      <th>643</th>\n",
       "      <td>644</td>\n",
       "      <td>1</td>\n",
       "      <td>3</td>\n",
       "      <td>Foo, Mr. Choong</td>\n",
       "      <td>male</td>\n",
       "      <td>NaN</td>\n",
       "      <td>0</td>\n",
       "      <td>0</td>\n",
       "      <td>1601</td>\n",
       "      <td>56.4958</td>\n",
       "      <td>NaN</td>\n",
       "      <td>S</td>\n",
       "    </tr>\n",
       "    <tr>\n",
       "      <th>678</th>\n",
       "      <td>679</td>\n",
       "      <td>0</td>\n",
       "      <td>3</td>\n",
       "      <td>Goodwin, Mrs. Frederick (Augusta Tyler)</td>\n",
       "      <td>female</td>\n",
       "      <td>43.0</td>\n",
       "      <td>1</td>\n",
       "      <td>6</td>\n",
       "      <td>CA 2144</td>\n",
       "      <td>46.9000</td>\n",
       "      <td>NaN</td>\n",
       "      <td>S</td>\n",
       "    </tr>\n",
       "    <tr>\n",
       "      <th>683</th>\n",
       "      <td>684</td>\n",
       "      <td>0</td>\n",
       "      <td>3</td>\n",
       "      <td>Goodwin, Mr. Charles Edward</td>\n",
       "      <td>male</td>\n",
       "      <td>14.0</td>\n",
       "      <td>5</td>\n",
       "      <td>2</td>\n",
       "      <td>CA 2144</td>\n",
       "      <td>46.9000</td>\n",
       "      <td>NaN</td>\n",
       "      <td>S</td>\n",
       "    </tr>\n",
       "    <tr>\n",
       "      <th>686</th>\n",
       "      <td>687</td>\n",
       "      <td>0</td>\n",
       "      <td>3</td>\n",
       "      <td>Panula, Mr. Jaako Arnold</td>\n",
       "      <td>male</td>\n",
       "      <td>14.0</td>\n",
       "      <td>4</td>\n",
       "      <td>1</td>\n",
       "      <td>3101295</td>\n",
       "      <td>39.6875</td>\n",
       "      <td>NaN</td>\n",
       "      <td>S</td>\n",
       "    </tr>\n",
       "    <tr>\n",
       "      <th>692</th>\n",
       "      <td>693</td>\n",
       "      <td>1</td>\n",
       "      <td>3</td>\n",
       "      <td>Lam, Mr. Ali</td>\n",
       "      <td>male</td>\n",
       "      <td>NaN</td>\n",
       "      <td>0</td>\n",
       "      <td>0</td>\n",
       "      <td>1601</td>\n",
       "      <td>56.4958</td>\n",
       "      <td>NaN</td>\n",
       "      <td>S</td>\n",
       "    </tr>\n",
       "    <tr>\n",
       "      <th>792</th>\n",
       "      <td>793</td>\n",
       "      <td>0</td>\n",
       "      <td>3</td>\n",
       "      <td>Sage, Miss. Stella Anna</td>\n",
       "      <td>female</td>\n",
       "      <td>NaN</td>\n",
       "      <td>8</td>\n",
       "      <td>2</td>\n",
       "      <td>CA. 2343</td>\n",
       "      <td>69.5500</td>\n",
       "      <td>NaN</td>\n",
       "      <td>S</td>\n",
       "    </tr>\n",
       "    <tr>\n",
       "      <th>824</th>\n",
       "      <td>825</td>\n",
       "      <td>0</td>\n",
       "      <td>3</td>\n",
       "      <td>Panula, Master. Urho Abraham</td>\n",
       "      <td>male</td>\n",
       "      <td>2.0</td>\n",
       "      <td>4</td>\n",
       "      <td>1</td>\n",
       "      <td>3101295</td>\n",
       "      <td>39.6875</td>\n",
       "      <td>NaN</td>\n",
       "      <td>S</td>\n",
       "    </tr>\n",
       "    <tr>\n",
       "      <th>826</th>\n",
       "      <td>827</td>\n",
       "      <td>0</td>\n",
       "      <td>3</td>\n",
       "      <td>Lam, Mr. Len</td>\n",
       "      <td>male</td>\n",
       "      <td>NaN</td>\n",
       "      <td>0</td>\n",
       "      <td>0</td>\n",
       "      <td>1601</td>\n",
       "      <td>56.4958</td>\n",
       "      <td>NaN</td>\n",
       "      <td>S</td>\n",
       "    </tr>\n",
       "    <tr>\n",
       "      <th>838</th>\n",
       "      <td>839</td>\n",
       "      <td>1</td>\n",
       "      <td>3</td>\n",
       "      <td>Chip, Mr. Chang</td>\n",
       "      <td>male</td>\n",
       "      <td>32.0</td>\n",
       "      <td>0</td>\n",
       "      <td>0</td>\n",
       "      <td>1601</td>\n",
       "      <td>56.4958</td>\n",
       "      <td>NaN</td>\n",
       "      <td>S</td>\n",
       "    </tr>\n",
       "    <tr>\n",
       "      <th>846</th>\n",
       "      <td>847</td>\n",
       "      <td>0</td>\n",
       "      <td>3</td>\n",
       "      <td>Sage, Mr. Douglas Bullen</td>\n",
       "      <td>male</td>\n",
       "      <td>NaN</td>\n",
       "      <td>8</td>\n",
       "      <td>2</td>\n",
       "      <td>CA. 2343</td>\n",
       "      <td>69.5500</td>\n",
       "      <td>NaN</td>\n",
       "      <td>S</td>\n",
       "    </tr>\n",
       "    <tr>\n",
       "      <th>863</th>\n",
       "      <td>864</td>\n",
       "      <td>0</td>\n",
       "      <td>3</td>\n",
       "      <td>Sage, Miss. Dorothy Edith \"Dolly\"</td>\n",
       "      <td>female</td>\n",
       "      <td>NaN</td>\n",
       "      <td>8</td>\n",
       "      <td>2</td>\n",
       "      <td>CA. 2343</td>\n",
       "      <td>69.5500</td>\n",
       "      <td>NaN</td>\n",
       "      <td>S</td>\n",
       "    </tr>\n",
       "  </tbody>\n",
       "</table>\n",
       "</div>"
      ],
      "text/plain": [
       "     PassengerId  Survived  Pclass                                     Name  \\\n",
       "50            51         0       3               Panula, Master. Juha Niilo   \n",
       "59            60         0       3       Goodwin, Master. William Frederick   \n",
       "71            72         0       3               Goodwin, Miss. Lillian Amy   \n",
       "74            75         1       3                            Bing, Mr. Lee   \n",
       "159          160         0       3               Sage, Master. Thomas Henry   \n",
       "164          165         0       3             Panula, Master. Eino Viljami   \n",
       "169          170         0       3                            Ling, Mr. Lee   \n",
       "180          181         0       3             Sage, Miss. Constance Gladys   \n",
       "201          202         0       3                      Sage, Mr. Frederick   \n",
       "266          267         0       3                Panula, Mr. Ernesti Arvid   \n",
       "324          325         0       3                 Sage, Mr. George John Jr   \n",
       "386          387         0       3          Goodwin, Master. Sidney Leonard   \n",
       "480          481         0       3           Goodwin, Master. Harold Victor   \n",
       "509          510         1       3                           Lang, Mr. Fang   \n",
       "638          639         0       3   Panula, Mrs. Juha (Maria Emilia Ojala)   \n",
       "643          644         1       3                          Foo, Mr. Choong   \n",
       "678          679         0       3  Goodwin, Mrs. Frederick (Augusta Tyler)   \n",
       "683          684         0       3              Goodwin, Mr. Charles Edward   \n",
       "686          687         0       3                 Panula, Mr. Jaako Arnold   \n",
       "692          693         1       3                             Lam, Mr. Ali   \n",
       "792          793         0       3                  Sage, Miss. Stella Anna   \n",
       "824          825         0       3             Panula, Master. Urho Abraham   \n",
       "826          827         0       3                             Lam, Mr. Len   \n",
       "838          839         1       3                          Chip, Mr. Chang   \n",
       "846          847         0       3                 Sage, Mr. Douglas Bullen   \n",
       "863          864         0       3        Sage, Miss. Dorothy Edith \"Dolly\"   \n",
       "\n",
       "        Sex   Age  SibSp  Parch    Ticket     Fare Cabin Embarked  \n",
       "50     male   7.0      4      1   3101295  39.6875   NaN        S  \n",
       "59     male  11.0      5      2   CA 2144  46.9000   NaN        S  \n",
       "71   female  16.0      5      2   CA 2144  46.9000   NaN        S  \n",
       "74     male  32.0      0      0      1601  56.4958   NaN        S  \n",
       "159    male   NaN      8      2  CA. 2343  69.5500   NaN        S  \n",
       "164    male   1.0      4      1   3101295  39.6875   NaN        S  \n",
       "169    male  28.0      0      0      1601  56.4958   NaN        S  \n",
       "180  female   NaN      8      2  CA. 2343  69.5500   NaN        S  \n",
       "201    male   NaN      8      2  CA. 2343  69.5500   NaN        S  \n",
       "266    male  16.0      4      1   3101295  39.6875   NaN        S  \n",
       "324    male   NaN      8      2  CA. 2343  69.5500   NaN        S  \n",
       "386    male   1.0      5      2   CA 2144  46.9000   NaN        S  \n",
       "480    male   9.0      5      2   CA 2144  46.9000   NaN        S  \n",
       "509    male  26.0      0      0      1601  56.4958   NaN        S  \n",
       "638  female  41.0      0      5   3101295  39.6875   NaN        S  \n",
       "643    male   NaN      0      0      1601  56.4958   NaN        S  \n",
       "678  female  43.0      1      6   CA 2144  46.9000   NaN        S  \n",
       "683    male  14.0      5      2   CA 2144  46.9000   NaN        S  \n",
       "686    male  14.0      4      1   3101295  39.6875   NaN        S  \n",
       "692    male   NaN      0      0      1601  56.4958   NaN        S  \n",
       "792  female   NaN      8      2  CA. 2343  69.5500   NaN        S  \n",
       "824    male   2.0      4      1   3101295  39.6875   NaN        S  \n",
       "826    male   NaN      0      0      1601  56.4958   NaN        S  \n",
       "838    male  32.0      0      0      1601  56.4958   NaN        S  \n",
       "846    male   NaN      8      2  CA. 2343  69.5500   NaN        S  \n",
       "863  female   NaN      8      2  CA. 2343  69.5500   NaN        S  "
      ]
     },
     "execution_count": 42,
     "metadata": {},
     "output_type": "execute_result"
    }
   ],
   "source": [
    "fulldata[(fulldata[\"Fare\"]>fulldata.groupby(\"Pclass\")[\"Fare\"].max()[3]-30.) & (fulldata[\"Pclass\"]==3)]"
   ]
  },
  {
   "cell_type": "markdown",
   "metadata": {},
   "source": [
    "It seems to be the case, that the given fare is the full ticket price and not the ticket price per person. To correct for this I divide by the number of persons on the given ticket."
   ]
  },
  {
   "cell_type": "code",
   "execution_count": 43,
   "metadata": {
    "collapsed": false
   },
   "outputs": [],
   "source": [
    "n_per_ticket = fulldata.groupby(\"Ticket\", ).count()[\"PassengerId\"]\n",
    "fare_per_ticket = fulldata.groupby(\"Ticket\").max()[\"Fare\"]\n",
    "\n",
    "fare_scaled = fare_per_ticket.divide(other=n_per_ticket)\n",
    "fare_scaled = pd.DataFrame({\"Fare_Scaled\":fare_scaled, \"Ticket\":fare_scaled.index})\n",
    "data_wrangled = fulldata.merge(fare_scaled, on=\"Ticket\", how=\"left\")"
   ]
  },
  {
   "cell_type": "code",
   "execution_count": 44,
   "metadata": {
    "collapsed": false
   },
   "outputs": [
    {
     "name": "stdout",
     "output_type": "stream",
     "text": [
      "Mean:\n",
      "Pclass\n",
      "1    43.650347\n",
      "2    13.322599\n",
      "3     8.086498\n",
      "Name: Fare_Scaled, dtype: float64\n",
      "\n",
      "Standard deviation:\n",
      "Pclass\n",
      "1    30.322236\n",
      "2     5.648278\n",
      "3     2.393032\n",
      "Name: Fare_Scaled, dtype: float64\n",
      "n\\Minimum w/o 0.: \n",
      "Pclass\n",
      "1    5.0000\n",
      "2    5.2500\n",
      "3    3.7111\n",
      "Name: Fare_Scaled, dtype: float64\n",
      "\n",
      "Minimum: \n",
      "Pclass\n",
      "1    0.0\n",
      "2    0.0\n",
      "3    0.0\n",
      "Name: Fare_Scaled, dtype: float64\n",
      "\n",
      "Maximum: \n",
      "Pclass\n",
      "1    221.7792\n",
      "2     32.5000\n",
      "3     22.5250\n",
      "Name: Fare_Scaled, dtype: float64\n"
     ]
    }
   ],
   "source": [
    "print \"Mean:\\n\", data_wrangled.groupby(\"Pclass\")[\"Fare_Scaled\"].mean()\n",
    "print \"\\nStandard deviation:\\n\", data_wrangled.groupby(\"Pclass\")[\"Fare_Scaled\"].std()\n",
    "fares = data_wrangled.groupby(\"Pclass\")[\"Fare_Scaled\"]\n",
    "print \"n\\Minimum w/o 0.: \\n\", data_wrangled.groupby(\"Pclass\")[\"Fare_Scaled\"].apply(lambda series: series[series>0].min())\n",
    "print \"\\nMinimum: \\n\", data_wrangled.groupby(\"Pclass\")[\"Fare_Scaled\"].min()\n",
    "print \"\\nMaximum: \\n\", data_wrangled.groupby(\"Pclass\")[\"Fare_Scaled\"].max()"
   ]
  },
  {
   "cell_type": "code",
   "execution_count": 45,
   "metadata": {
    "collapsed": false,
    "scrolled": true
   },
   "outputs": [
    {
     "data": {
      "text/html": [
       "<div>\n",
       "<table border=\"1\" class=\"dataframe\">\n",
       "  <thead>\n",
       "    <tr style=\"text-align: right;\">\n",
       "      <th></th>\n",
       "      <th>PassengerId</th>\n",
       "      <th>Survived</th>\n",
       "      <th>Pclass</th>\n",
       "      <th>Name</th>\n",
       "      <th>Sex</th>\n",
       "      <th>Age</th>\n",
       "      <th>SibSp</th>\n",
       "      <th>Parch</th>\n",
       "      <th>Ticket</th>\n",
       "      <th>Fare</th>\n",
       "      <th>Cabin</th>\n",
       "      <th>Embarked</th>\n",
       "      <th>Fare_Scaled</th>\n",
       "    </tr>\n",
       "  </thead>\n",
       "  <tbody>\n",
       "    <tr>\n",
       "      <th>18</th>\n",
       "      <td>19</td>\n",
       "      <td>0</td>\n",
       "      <td>3</td>\n",
       "      <td>Vander Planke, Mrs. Julius (Emelia Maria Vande...</td>\n",
       "      <td>female</td>\n",
       "      <td>31.0</td>\n",
       "      <td>1</td>\n",
       "      <td>0</td>\n",
       "      <td>345763</td>\n",
       "      <td>18.0000</td>\n",
       "      <td>NaN</td>\n",
       "      <td>S</td>\n",
       "      <td>18.0000</td>\n",
       "    </tr>\n",
       "    <tr>\n",
       "      <th>46</th>\n",
       "      <td>47</td>\n",
       "      <td>0</td>\n",
       "      <td>3</td>\n",
       "      <td>Lennon, Mr. Denis</td>\n",
       "      <td>male</td>\n",
       "      <td>NaN</td>\n",
       "      <td>1</td>\n",
       "      <td>0</td>\n",
       "      <td>370371</td>\n",
       "      <td>15.5000</td>\n",
       "      <td>NaN</td>\n",
       "      <td>Q</td>\n",
       "      <td>15.5000</td>\n",
       "    </tr>\n",
       "    <tr>\n",
       "      <th>48</th>\n",
       "      <td>49</td>\n",
       "      <td>0</td>\n",
       "      <td>3</td>\n",
       "      <td>Samaan, Mr. Youssef</td>\n",
       "      <td>male</td>\n",
       "      <td>NaN</td>\n",
       "      <td>2</td>\n",
       "      <td>0</td>\n",
       "      <td>2662</td>\n",
       "      <td>21.6792</td>\n",
       "      <td>NaN</td>\n",
       "      <td>C</td>\n",
       "      <td>21.6792</td>\n",
       "    </tr>\n",
       "    <tr>\n",
       "      <th>73</th>\n",
       "      <td>74</td>\n",
       "      <td>0</td>\n",
       "      <td>3</td>\n",
       "      <td>Chronopoulos, Mr. Apostolos</td>\n",
       "      <td>male</td>\n",
       "      <td>26.0</td>\n",
       "      <td>1</td>\n",
       "      <td>0</td>\n",
       "      <td>2680</td>\n",
       "      <td>14.4542</td>\n",
       "      <td>NaN</td>\n",
       "      <td>C</td>\n",
       "      <td>14.4542</td>\n",
       "    </tr>\n",
       "    <tr>\n",
       "      <th>132</th>\n",
       "      <td>133</td>\n",
       "      <td>0</td>\n",
       "      <td>3</td>\n",
       "      <td>Robins, Mrs. Alexander A (Grace Charity Laury)</td>\n",
       "      <td>female</td>\n",
       "      <td>47.0</td>\n",
       "      <td>1</td>\n",
       "      <td>0</td>\n",
       "      <td>A/5. 3337</td>\n",
       "      <td>14.5000</td>\n",
       "      <td>NaN</td>\n",
       "      <td>S</td>\n",
       "      <td>14.5000</td>\n",
       "    </tr>\n",
       "    <tr>\n",
       "      <th>153</th>\n",
       "      <td>154</td>\n",
       "      <td>0</td>\n",
       "      <td>3</td>\n",
       "      <td>van Billiard, Mr. Austin Blyler</td>\n",
       "      <td>male</td>\n",
       "      <td>40.5</td>\n",
       "      <td>0</td>\n",
       "      <td>2</td>\n",
       "      <td>A/5. 851</td>\n",
       "      <td>14.5000</td>\n",
       "      <td>NaN</td>\n",
       "      <td>S</td>\n",
       "      <td>14.5000</td>\n",
       "    </tr>\n",
       "    <tr>\n",
       "      <th>160</th>\n",
       "      <td>161</td>\n",
       "      <td>0</td>\n",
       "      <td>3</td>\n",
       "      <td>Cribb, Mr. John Hatfield</td>\n",
       "      <td>male</td>\n",
       "      <td>44.0</td>\n",
       "      <td>0</td>\n",
       "      <td>1</td>\n",
       "      <td>371362</td>\n",
       "      <td>16.1000</td>\n",
       "      <td>NaN</td>\n",
       "      <td>S</td>\n",
       "      <td>16.1000</td>\n",
       "    </tr>\n",
       "    <tr>\n",
       "      <th>184</th>\n",
       "      <td>185</td>\n",
       "      <td>1</td>\n",
       "      <td>3</td>\n",
       "      <td>Kink-Heilmann, Miss. Luise Gretchen</td>\n",
       "      <td>female</td>\n",
       "      <td>4.0</td>\n",
       "      <td>0</td>\n",
       "      <td>2</td>\n",
       "      <td>315153</td>\n",
       "      <td>22.0250</td>\n",
       "      <td>NaN</td>\n",
       "      <td>S</td>\n",
       "      <td>22.0250</td>\n",
       "    </tr>\n",
       "    <tr>\n",
       "      <th>255</th>\n",
       "      <td>256</td>\n",
       "      <td>1</td>\n",
       "      <td>3</td>\n",
       "      <td>Touma, Mrs. Darwis (Hanne Youssef Razi)</td>\n",
       "      <td>female</td>\n",
       "      <td>29.0</td>\n",
       "      <td>0</td>\n",
       "      <td>2</td>\n",
       "      <td>2650</td>\n",
       "      <td>15.2458</td>\n",
       "      <td>NaN</td>\n",
       "      <td>C</td>\n",
       "      <td>15.2458</td>\n",
       "    </tr>\n",
       "    <tr>\n",
       "      <th>347</th>\n",
       "      <td>348</td>\n",
       "      <td>1</td>\n",
       "      <td>3</td>\n",
       "      <td>Davison, Mrs. Thomas Henry (Mary E Finck)</td>\n",
       "      <td>female</td>\n",
       "      <td>NaN</td>\n",
       "      <td>1</td>\n",
       "      <td>0</td>\n",
       "      <td>386525</td>\n",
       "      <td>16.1000</td>\n",
       "      <td>NaN</td>\n",
       "      <td>S</td>\n",
       "      <td>16.1000</td>\n",
       "    </tr>\n",
       "    <tr>\n",
       "      <th>451</th>\n",
       "      <td>452</td>\n",
       "      <td>0</td>\n",
       "      <td>3</td>\n",
       "      <td>Hagland, Mr. Ingvald Olai Olsen</td>\n",
       "      <td>male</td>\n",
       "      <td>NaN</td>\n",
       "      <td>1</td>\n",
       "      <td>0</td>\n",
       "      <td>65303</td>\n",
       "      <td>19.9667</td>\n",
       "      <td>NaN</td>\n",
       "      <td>S</td>\n",
       "      <td>19.9667</td>\n",
       "    </tr>\n",
       "    <tr>\n",
       "      <th>490</th>\n",
       "      <td>491</td>\n",
       "      <td>0</td>\n",
       "      <td>3</td>\n",
       "      <td>Hagland, Mr. Konrad Mathias Reiersen</td>\n",
       "      <td>male</td>\n",
       "      <td>NaN</td>\n",
       "      <td>1</td>\n",
       "      <td>0</td>\n",
       "      <td>65304</td>\n",
       "      <td>19.9667</td>\n",
       "      <td>NaN</td>\n",
       "      <td>S</td>\n",
       "      <td>19.9667</td>\n",
       "    </tr>\n",
       "    <tr>\n",
       "      <th>497</th>\n",
       "      <td>498</td>\n",
       "      <td>0</td>\n",
       "      <td>3</td>\n",
       "      <td>Shellard, Mr. Frederick William</td>\n",
       "      <td>male</td>\n",
       "      <td>NaN</td>\n",
       "      <td>0</td>\n",
       "      <td>0</td>\n",
       "      <td>C.A. 6212</td>\n",
       "      <td>15.1000</td>\n",
       "      <td>NaN</td>\n",
       "      <td>S</td>\n",
       "      <td>15.1000</td>\n",
       "    </tr>\n",
       "    <tr>\n",
       "      <th>508</th>\n",
       "      <td>509</td>\n",
       "      <td>0</td>\n",
       "      <td>3</td>\n",
       "      <td>Olsen, Mr. Henry Margido</td>\n",
       "      <td>male</td>\n",
       "      <td>28.0</td>\n",
       "      <td>0</td>\n",
       "      <td>0</td>\n",
       "      <td>C 4001</td>\n",
       "      <td>22.5250</td>\n",
       "      <td>NaN</td>\n",
       "      <td>S</td>\n",
       "      <td>22.5250</td>\n",
       "    </tr>\n",
       "    <tr>\n",
       "      <th>538</th>\n",
       "      <td>539</td>\n",
       "      <td>0</td>\n",
       "      <td>3</td>\n",
       "      <td>Risien, Mr. Samuel Beard</td>\n",
       "      <td>male</td>\n",
       "      <td>NaN</td>\n",
       "      <td>0</td>\n",
       "      <td>0</td>\n",
       "      <td>364498</td>\n",
       "      <td>14.5000</td>\n",
       "      <td>NaN</td>\n",
       "      <td>S</td>\n",
       "      <td>14.5000</td>\n",
       "    </tr>\n",
       "    <tr>\n",
       "      <th>559</th>\n",
       "      <td>560</td>\n",
       "      <td>1</td>\n",
       "      <td>3</td>\n",
       "      <td>de Messemaeker, Mrs. Guillaume Joseph (Emma)</td>\n",
       "      <td>female</td>\n",
       "      <td>36.0</td>\n",
       "      <td>1</td>\n",
       "      <td>0</td>\n",
       "      <td>345572</td>\n",
       "      <td>17.4000</td>\n",
       "      <td>NaN</td>\n",
       "      <td>S</td>\n",
       "      <td>17.4000</td>\n",
       "    </tr>\n",
       "    <tr>\n",
       "      <th>578</th>\n",
       "      <td>579</td>\n",
       "      <td>0</td>\n",
       "      <td>3</td>\n",
       "      <td>Caram, Mrs. Joseph (Maria Elias)</td>\n",
       "      <td>female</td>\n",
       "      <td>NaN</td>\n",
       "      <td>1</td>\n",
       "      <td>0</td>\n",
       "      <td>2689</td>\n",
       "      <td>14.4583</td>\n",
       "      <td>NaN</td>\n",
       "      <td>C</td>\n",
       "      <td>14.4583</td>\n",
       "    </tr>\n",
       "    <tr>\n",
       "      <th>605</th>\n",
       "      <td>606</td>\n",
       "      <td>0</td>\n",
       "      <td>3</td>\n",
       "      <td>Lindell, Mr. Edvard Bengtsson</td>\n",
       "      <td>male</td>\n",
       "      <td>36.0</td>\n",
       "      <td>1</td>\n",
       "      <td>0</td>\n",
       "      <td>349910</td>\n",
       "      <td>15.5500</td>\n",
       "      <td>NaN</td>\n",
       "      <td>S</td>\n",
       "      <td>15.5500</td>\n",
       "    </tr>\n",
       "    <tr>\n",
       "      <th>691</th>\n",
       "      <td>692</td>\n",
       "      <td>1</td>\n",
       "      <td>3</td>\n",
       "      <td>Karun, Miss. Manca</td>\n",
       "      <td>female</td>\n",
       "      <td>4.0</td>\n",
       "      <td>0</td>\n",
       "      <td>1</td>\n",
       "      <td>349256</td>\n",
       "      <td>13.4167</td>\n",
       "      <td>NaN</td>\n",
       "      <td>C</td>\n",
       "      <td>13.4167</td>\n",
       "    </tr>\n",
       "    <tr>\n",
       "      <th>718</th>\n",
       "      <td>719</td>\n",
       "      <td>0</td>\n",
       "      <td>3</td>\n",
       "      <td>McEvoy, Mr. Michael</td>\n",
       "      <td>male</td>\n",
       "      <td>NaN</td>\n",
       "      <td>0</td>\n",
       "      <td>0</td>\n",
       "      <td>36568</td>\n",
       "      <td>15.5000</td>\n",
       "      <td>NaN</td>\n",
       "      <td>Q</td>\n",
       "      <td>15.5000</td>\n",
       "    </tr>\n",
       "    <tr>\n",
       "      <th>743</th>\n",
       "      <td>744</td>\n",
       "      <td>0</td>\n",
       "      <td>3</td>\n",
       "      <td>McNamee, Mr. Neal</td>\n",
       "      <td>male</td>\n",
       "      <td>24.0</td>\n",
       "      <td>1</td>\n",
       "      <td>0</td>\n",
       "      <td>376566</td>\n",
       "      <td>16.1000</td>\n",
       "      <td>NaN</td>\n",
       "      <td>S</td>\n",
       "      <td>16.1000</td>\n",
       "    </tr>\n",
       "    <tr>\n",
       "      <th>860</th>\n",
       "      <td>861</td>\n",
       "      <td>0</td>\n",
       "      <td>3</td>\n",
       "      <td>Hansen, Mr. Claus Peter</td>\n",
       "      <td>male</td>\n",
       "      <td>41.0</td>\n",
       "      <td>2</td>\n",
       "      <td>0</td>\n",
       "      <td>350026</td>\n",
       "      <td>14.1083</td>\n",
       "      <td>NaN</td>\n",
       "      <td>S</td>\n",
       "      <td>14.1083</td>\n",
       "    </tr>\n",
       "  </tbody>\n",
       "</table>\n",
       "</div>"
      ],
      "text/plain": [
       "     PassengerId  Survived  Pclass  \\\n",
       "18            19         0       3   \n",
       "46            47         0       3   \n",
       "48            49         0       3   \n",
       "73            74         0       3   \n",
       "132          133         0       3   \n",
       "153          154         0       3   \n",
       "160          161         0       3   \n",
       "184          185         1       3   \n",
       "255          256         1       3   \n",
       "347          348         1       3   \n",
       "451          452         0       3   \n",
       "490          491         0       3   \n",
       "497          498         0       3   \n",
       "508          509         0       3   \n",
       "538          539         0       3   \n",
       "559          560         1       3   \n",
       "578          579         0       3   \n",
       "605          606         0       3   \n",
       "691          692         1       3   \n",
       "718          719         0       3   \n",
       "743          744         0       3   \n",
       "860          861         0       3   \n",
       "\n",
       "                                                  Name     Sex   Age  SibSp  \\\n",
       "18   Vander Planke, Mrs. Julius (Emelia Maria Vande...  female  31.0      1   \n",
       "46                                   Lennon, Mr. Denis    male   NaN      1   \n",
       "48                                 Samaan, Mr. Youssef    male   NaN      2   \n",
       "73                         Chronopoulos, Mr. Apostolos    male  26.0      1   \n",
       "132     Robins, Mrs. Alexander A (Grace Charity Laury)  female  47.0      1   \n",
       "153                    van Billiard, Mr. Austin Blyler    male  40.5      0   \n",
       "160                           Cribb, Mr. John Hatfield    male  44.0      0   \n",
       "184                Kink-Heilmann, Miss. Luise Gretchen  female   4.0      0   \n",
       "255            Touma, Mrs. Darwis (Hanne Youssef Razi)  female  29.0      0   \n",
       "347          Davison, Mrs. Thomas Henry (Mary E Finck)  female   NaN      1   \n",
       "451                    Hagland, Mr. Ingvald Olai Olsen    male   NaN      1   \n",
       "490               Hagland, Mr. Konrad Mathias Reiersen    male   NaN      1   \n",
       "497                    Shellard, Mr. Frederick William    male   NaN      0   \n",
       "508                           Olsen, Mr. Henry Margido    male  28.0      0   \n",
       "538                           Risien, Mr. Samuel Beard    male   NaN      0   \n",
       "559       de Messemaeker, Mrs. Guillaume Joseph (Emma)  female  36.0      1   \n",
       "578                   Caram, Mrs. Joseph (Maria Elias)  female   NaN      1   \n",
       "605                      Lindell, Mr. Edvard Bengtsson    male  36.0      1   \n",
       "691                                 Karun, Miss. Manca  female   4.0      0   \n",
       "718                                McEvoy, Mr. Michael    male   NaN      0   \n",
       "743                                  McNamee, Mr. Neal    male  24.0      1   \n",
       "860                            Hansen, Mr. Claus Peter    male  41.0      2   \n",
       "\n",
       "     Parch     Ticket     Fare Cabin Embarked  Fare_Scaled  \n",
       "18       0     345763  18.0000   NaN        S      18.0000  \n",
       "46       0     370371  15.5000   NaN        Q      15.5000  \n",
       "48       0       2662  21.6792   NaN        C      21.6792  \n",
       "73       0       2680  14.4542   NaN        C      14.4542  \n",
       "132      0  A/5. 3337  14.5000   NaN        S      14.5000  \n",
       "153      2   A/5. 851  14.5000   NaN        S      14.5000  \n",
       "160      1     371362  16.1000   NaN        S      16.1000  \n",
       "184      2     315153  22.0250   NaN        S      22.0250  \n",
       "255      2       2650  15.2458   NaN        C      15.2458  \n",
       "347      0     386525  16.1000   NaN        S      16.1000  \n",
       "451      0      65303  19.9667   NaN        S      19.9667  \n",
       "490      0      65304  19.9667   NaN        S      19.9667  \n",
       "497      0  C.A. 6212  15.1000   NaN        S      15.1000  \n",
       "508      0     C 4001  22.5250   NaN        S      22.5250  \n",
       "538      0     364498  14.5000   NaN        S      14.5000  \n",
       "559      0     345572  17.4000   NaN        S      17.4000  \n",
       "578      0       2689  14.4583   NaN        C      14.4583  \n",
       "605      0     349910  15.5500   NaN        S      15.5500  \n",
       "691      1     349256  13.4167   NaN        C      13.4167  \n",
       "718      0      36568  15.5000   NaN        Q      15.5000  \n",
       "743      0     376566  16.1000   NaN        S      16.1000  \n",
       "860      0     350026  14.1083   NaN        S      14.1083  "
      ]
     },
     "execution_count": 45,
     "metadata": {},
     "output_type": "execute_result"
    }
   ],
   "source": [
    "data_wrangled[(data_wrangled[\"Fare_Scaled\"]>data_wrangled.groupby(\"Pclass\")[\"Fare_Scaled\"].max()[3]-10.) & (fulldata[\"Pclass\"]==3)]"
   ]
  },
  {
   "cell_type": "markdown",
   "metadata": {},
   "source": [
    "There are still some high ticket prices for some passengers in the third class. This might be due to the fact, that the dataset does not contain data on all passengers. "
   ]
  },
  {
   "cell_type": "markdown",
   "metadata": {},
   "source": [
    "## Family names"
   ]
  },
  {
   "cell_type": "code",
   "execution_count": 46,
   "metadata": {
    "collapsed": false
   },
   "outputs": [
    {
     "name": "stdout",
     "output_type": "stream",
     "text": [
      "0       Braund\n",
      "1      Cumings\n",
      "2    Heikkinen\n",
      "3     Futrelle\n",
      "4        Allen\n",
      "Name: Surname, dtype: object\n",
      "0       Mr\n",
      "1      Mrs\n",
      "2     Miss\n",
      "3      Mrs\n",
      "4       Mr\n",
      "Name: Title, dtype: object\n",
      "count     891\n",
      "unique     17\n",
      "top        Mr\n",
      "freq      517\n",
      "Name: Title, dtype: object\n",
      "           PassengerId  Survived  Pclass  Name  Sex  Age  SibSp  Parch  \\\n",
      "Surname                                                                  \n",
      "Andersson            9         9       9     9    9    9      9      9   \n",
      "Sage                 7         7       7     7    7    0      7      7   \n",
      "Skoog                6         6       6     6    6    6      6      6   \n",
      "Carter               6         6       6     6    6    6      6      6   \n",
      "Goodwin              6         6       6     6    6    6      6      6   \n",
      "\n",
      "           Ticket  Fare  Cabin  Embarked  Fare_Scaled  Title  \n",
      "Surname                                                       \n",
      "Andersson       9     9      0         9            9      9  \n",
      "Sage            7     7      0         7            7      7  \n",
      "Skoog           6     6      0         6            6      6  \n",
      "Carter          6     6      4         6            6      6  \n",
      "Goodwin         6     6      0         6            6      6  \n"
     ]
    },
    {
     "data": {
      "image/png": "[encoded data removed]",
      "text/plain": [
       "<matplotlib.figure.Figure at 0x110ef7b8>"
      ]
     },
     "metadata": {},
     "output_type": "display_data"
    }
   ],
   "source": [
    "data_wrangled[\"Surname\"] = data_wrangled[\"Name\"].apply(lambda name: name.split(\",\")[0])\n",
    "print data_wrangled[\"Surname\"].head()\n",
    "data_wrangled[\"Title\"] = data_wrangled[\"Name\"].apply(lambda name: name.split(\",\")[1].split(\".\")[0])\n",
    "print data_wrangled[\"Title\"].head()\n",
    "investigateColumn(data_wrangled, \"Title\")\n",
    "print data_wrangled.groupby(\"Surname\").count().sort_values(\"PassengerId\", ascending=False).head()"
   ]
  },
  {
   "cell_type": "markdown",
   "metadata": {},
   "source": [
    "I want to check if the family size I observe by looking at the surnames correspond to the number of relatives."
   ]
  },
  {
   "cell_type": "code",
   "execution_count": 47,
   "metadata": {
    "collapsed": false
   },
   "outputs": [
    {
     "data": {
      "text/html": [
       "<div>\n",
       "<table border=\"1\" class=\"dataframe\">\n",
       "  <thead>\n",
       "    <tr style=\"text-align: right;\">\n",
       "      <th></th>\n",
       "      <th>Name</th>\n",
       "      <th>Parch</th>\n",
       "      <th>SibSp</th>\n",
       "    </tr>\n",
       "  </thead>\n",
       "  <tbody>\n",
       "    <tr>\n",
       "      <th>13</th>\n",
       "      <td>Andersson, Mr. Anders Johan</td>\n",
       "      <td>5</td>\n",
       "      <td>1</td>\n",
       "    </tr>\n",
       "    <tr>\n",
       "      <th>68</th>\n",
       "      <td>Andersson, Miss. Erna Alexandra</td>\n",
       "      <td>2</td>\n",
       "      <td>4</td>\n",
       "    </tr>\n",
       "    <tr>\n",
       "      <th>119</th>\n",
       "      <td>Andersson, Miss. Ellis Anna Maria</td>\n",
       "      <td>2</td>\n",
       "      <td>4</td>\n",
       "    </tr>\n",
       "    <tr>\n",
       "      <th>146</th>\n",
       "      <td>Andersson, Mr. August Edvard (\"Wennerstrom\")</td>\n",
       "      <td>0</td>\n",
       "      <td>0</td>\n",
       "    </tr>\n",
       "    <tr>\n",
       "      <th>541</th>\n",
       "      <td>Andersson, Miss. Ingeborg Constanzia</td>\n",
       "      <td>2</td>\n",
       "      <td>4</td>\n",
       "    </tr>\n",
       "    <tr>\n",
       "      <th>542</th>\n",
       "      <td>Andersson, Miss. Sigrid Elisabeth</td>\n",
       "      <td>2</td>\n",
       "      <td>4</td>\n",
       "    </tr>\n",
       "    <tr>\n",
       "      <th>610</th>\n",
       "      <td>Andersson, Mrs. Anders Johan (Alfrida Konstant...</td>\n",
       "      <td>5</td>\n",
       "      <td>1</td>\n",
       "    </tr>\n",
       "    <tr>\n",
       "      <th>813</th>\n",
       "      <td>Andersson, Miss. Ebba Iris Alfrida</td>\n",
       "      <td>2</td>\n",
       "      <td>4</td>\n",
       "    </tr>\n",
       "    <tr>\n",
       "      <th>850</th>\n",
       "      <td>Andersson, Master. Sigvard Harald Elias</td>\n",
       "      <td>2</td>\n",
       "      <td>4</td>\n",
       "    </tr>\n",
       "  </tbody>\n",
       "</table>\n",
       "</div>"
      ],
      "text/plain": [
       "                                                  Name  Parch  SibSp\n",
       "13                         Andersson, Mr. Anders Johan      5      1\n",
       "68                     Andersson, Miss. Erna Alexandra      2      4\n",
       "119                  Andersson, Miss. Ellis Anna Maria      2      4\n",
       "146       Andersson, Mr. August Edvard (\"Wennerstrom\")      0      0\n",
       "541               Andersson, Miss. Ingeborg Constanzia      2      4\n",
       "542                  Andersson, Miss. Sigrid Elisabeth      2      4\n",
       "610  Andersson, Mrs. Anders Johan (Alfrida Konstant...      5      1\n",
       "813                 Andersson, Miss. Ebba Iris Alfrida      2      4\n",
       "850            Andersson, Master. Sigvard Harald Elias      2      4"
      ]
     },
     "execution_count": 47,
     "metadata": {},
     "output_type": "execute_result"
    }
   ],
   "source": [
    "data_wrangled[data_wrangled[\"Surname\"]==\"Andersson\"][[\"Name\", \"Parch\", \"SibSp\"]]"
   ]
  },
  {
   "cell_type": "markdown",
   "metadata": {},
   "source": [
    "## Calculate family size"
   ]
  },
  {
   "cell_type": "code",
   "execution_count": 48,
   "metadata": {
    "collapsed": false
   },
   "outputs": [
    {
     "name": "stdout",
     "output_type": "stream",
     "text": [
      "count    891.000000\n",
      "mean       1.904602\n",
      "std        1.613459\n",
      "min        1.000000\n",
      "25%        1.000000\n",
      "50%        1.000000\n",
      "75%        2.000000\n",
      "max       11.000000\n",
      "Name: Familysize, dtype: float64\n"
     ]
    },
    {
     "data": {
      "text/html": [
       "<div>\n",
       "<table border=\"1\" class=\"dataframe\">\n",
       "  <thead>\n",
       "    <tr style=\"text-align: right;\">\n",
       "      <th></th>\n",
       "      <th>PassengerId</th>\n",
       "      <th>Survived</th>\n",
       "      <th>Pclass</th>\n",
       "      <th>Name</th>\n",
       "      <th>Sex</th>\n",
       "      <th>Age</th>\n",
       "      <th>SibSp</th>\n",
       "      <th>Parch</th>\n",
       "      <th>Ticket</th>\n",
       "      <th>Fare</th>\n",
       "      <th>Cabin</th>\n",
       "      <th>Embarked</th>\n",
       "      <th>Fare_Scaled</th>\n",
       "      <th>Surname</th>\n",
       "      <th>Title</th>\n",
       "      <th>Familysize</th>\n",
       "    </tr>\n",
       "  </thead>\n",
       "  <tbody>\n",
       "    <tr>\n",
       "      <th>159</th>\n",
       "      <td>160</td>\n",
       "      <td>0</td>\n",
       "      <td>3</td>\n",
       "      <td>Sage, Master. Thomas Henry</td>\n",
       "      <td>male</td>\n",
       "      <td>NaN</td>\n",
       "      <td>8</td>\n",
       "      <td>2</td>\n",
       "      <td>CA. 2343</td>\n",
       "      <td>69.55</td>\n",
       "      <td>NaN</td>\n",
       "      <td>S</td>\n",
       "      <td>9.935714</td>\n",
       "      <td>Sage</td>\n",
       "      <td>Master</td>\n",
       "      <td>11</td>\n",
       "    </tr>\n",
       "    <tr>\n",
       "      <th>180</th>\n",
       "      <td>181</td>\n",
       "      <td>0</td>\n",
       "      <td>3</td>\n",
       "      <td>Sage, Miss. Constance Gladys</td>\n",
       "      <td>female</td>\n",
       "      <td>NaN</td>\n",
       "      <td>8</td>\n",
       "      <td>2</td>\n",
       "      <td>CA. 2343</td>\n",
       "      <td>69.55</td>\n",
       "      <td>NaN</td>\n",
       "      <td>S</td>\n",
       "      <td>9.935714</td>\n",
       "      <td>Sage</td>\n",
       "      <td>Miss</td>\n",
       "      <td>11</td>\n",
       "    </tr>\n",
       "    <tr>\n",
       "      <th>201</th>\n",
       "      <td>202</td>\n",
       "      <td>0</td>\n",
       "      <td>3</td>\n",
       "      <td>Sage, Mr. Frederick</td>\n",
       "      <td>male</td>\n",
       "      <td>NaN</td>\n",
       "      <td>8</td>\n",
       "      <td>2</td>\n",
       "      <td>CA. 2343</td>\n",
       "      <td>69.55</td>\n",
       "      <td>NaN</td>\n",
       "      <td>S</td>\n",
       "      <td>9.935714</td>\n",
       "      <td>Sage</td>\n",
       "      <td>Mr</td>\n",
       "      <td>11</td>\n",
       "    </tr>\n",
       "    <tr>\n",
       "      <th>324</th>\n",
       "      <td>325</td>\n",
       "      <td>0</td>\n",
       "      <td>3</td>\n",
       "      <td>Sage, Mr. George John Jr</td>\n",
       "      <td>male</td>\n",
       "      <td>NaN</td>\n",
       "      <td>8</td>\n",
       "      <td>2</td>\n",
       "      <td>CA. 2343</td>\n",
       "      <td>69.55</td>\n",
       "      <td>NaN</td>\n",
       "      <td>S</td>\n",
       "      <td>9.935714</td>\n",
       "      <td>Sage</td>\n",
       "      <td>Mr</td>\n",
       "      <td>11</td>\n",
       "    </tr>\n",
       "    <tr>\n",
       "      <th>792</th>\n",
       "      <td>793</td>\n",
       "      <td>0</td>\n",
       "      <td>3</td>\n",
       "      <td>Sage, Miss. Stella Anna</td>\n",
       "      <td>female</td>\n",
       "      <td>NaN</td>\n",
       "      <td>8</td>\n",
       "      <td>2</td>\n",
       "      <td>CA. 2343</td>\n",
       "      <td>69.55</td>\n",
       "      <td>NaN</td>\n",
       "      <td>S</td>\n",
       "      <td>9.935714</td>\n",
       "      <td>Sage</td>\n",
       "      <td>Miss</td>\n",
       "      <td>11</td>\n",
       "    </tr>\n",
       "  </tbody>\n",
       "</table>\n",
       "</div>"
      ],
      "text/plain": [
       "     PassengerId  Survived  Pclass                          Name     Sex  Age  \\\n",
       "159          160         0       3    Sage, Master. Thomas Henry    male  NaN   \n",
       "180          181         0       3  Sage, Miss. Constance Gladys  female  NaN   \n",
       "201          202         0       3           Sage, Mr. Frederick    male  NaN   \n",
       "324          325         0       3      Sage, Mr. George John Jr    male  NaN   \n",
       "792          793         0       3       Sage, Miss. Stella Anna  female  NaN   \n",
       "\n",
       "     SibSp  Parch    Ticket   Fare Cabin Embarked  Fare_Scaled Surname  \\\n",
       "159      8      2  CA. 2343  69.55   NaN        S     9.935714    Sage   \n",
       "180      8      2  CA. 2343  69.55   NaN        S     9.935714    Sage   \n",
       "201      8      2  CA. 2343  69.55   NaN        S     9.935714    Sage   \n",
       "324      8      2  CA. 2343  69.55   NaN        S     9.935714    Sage   \n",
       "792      8      2  CA. 2343  69.55   NaN        S     9.935714    Sage   \n",
       "\n",
       "       Title  Familysize  \n",
       "159   Master          11  \n",
       "180     Miss          11  \n",
       "201       Mr          11  \n",
       "324       Mr          11  \n",
       "792     Miss          11  "
      ]
     },
     "execution_count": 48,
     "metadata": {},
     "output_type": "execute_result"
    },
    {
     "data": {
      "image/png": "[encoded data removed]",
      "text/plain": [
       "<matplotlib.figure.Figure at 0xd4dcbe0>"
      ]
     },
     "metadata": {},
     "output_type": "display_data"
    }
   ],
   "source": [
    "# Add number of parents, children, siblings and spouse and add one to account for the passenger himself\n",
    "data_wrangled[\"Familysize\"] = data_wrangled[\"Parch\"] + data_wrangled[\"SibSp\"] + 1\n",
    "\n",
    "# investigate the new column\n",
    "investigateColumn(data_wrangled, \"Familysize\")\n",
    "\n",
    "# Show first entries\n",
    "data_wrangled[data_wrangled[\"Familysize\"]==11].head()"
   ]
  },
  {
   "cell_type": "markdown",
   "metadata": {},
   "source": [
    "## Fares for different passenger classes"
   ]
  },
  {
   "cell_type": "markdown",
   "metadata": {},
   "source": [
    "I plot the fare also with a logarithmic x axis to cover a wide region of fares while simultaneously differenciating smaller fares."
   ]
  },
  {
   "cell_type": "code",
   "execution_count": 49,
   "metadata": {
    "collapsed": false
   },
   "outputs": [
    {
     "name": "stdout",
     "output_type": "stream",
     "text": [
      "Mode of fares for 1st class: 26.86\n",
      "Mode of fares for 2nd class: 11.66\n",
      "Mode of fares for 3rd class:  6.68\n"
     ]
    },
    {
     "data": {
      "image/png": "[encoded data removed]",
      "text/plain": [
       "<matplotlib.figure.Figure at 0xcd4ad68>"
      ]
     },
     "metadata": {},
     "output_type": "display_data"
    },
    {
     "data": {
      "image/png": "[encoded data removed]",
      "text/plain": [
       "<matplotlib.figure.Figure at 0xda4ba90>"
      ]
     },
     "metadata": {},
     "output_type": "display_data"
    }
   ],
   "source": [
    "# Extract fares for the three passenger classes\n",
    "fare_class_1 = data_wrangled[data_wrangled[\"Pclass\"]==1][\"Fare_Scaled\"]\n",
    "fare_class_2 = data_wrangled[data_wrangled[\"Pclass\"]==2][\"Fare_Scaled\"]\n",
    "fare_class_3 = data_wrangled[data_wrangled[\"Pclass\"]==3][\"Fare_Scaled\"]\n",
    "\n",
    "# Plot fares\n",
    "plt.title('Histogram of fares')\n",
    "plt.xlabel(\"Fare\")\n",
    "plt.ylabel(\"Number of passengers per bin\")\n",
    "plt.hist([fare_class_1, fare_class_2, fare_class_3], stacked=True, label=[\"1st class\", \"2nd class\", \"3rd class\"])\n",
    "plt.legend()\n",
    "plt.figure()\n",
    "\n",
    "# Plot fares on a logrithmix x-axis\n",
    "a,b,c = plt.hist([fare_class_1, fare_class_2, fare_class_3], stacked=True, \\\n",
    "         bins=np.logspace(0.1,3, 25), label=[\"1st class\", \"2nd class\", \"3rd class\"])\n",
    "plt.gca().set_xscale(\"log\")\n",
    "plt.xlabel(\"Fare\")\n",
    "plt.ylabel(\"Number of passengers per bin\")\n",
    "plt.legend()\n",
    "\n",
    "# Print out the modes for the logarithmic histogram\n",
    "print \"Mode of fares for 1st class:\", \"%5.2f\" % (b[a[0].argmax()])\n",
    "print \"Mode of fares for 2nd class:\", \"%5.2f\" % (b[a[1].argmax()])\n",
    "print \"Mode of fares for 3rd class:\", \"%5.2f\" % (b[a[2].argmax()])\n",
    "\n"
   ]
  },
  {
   "cell_type": "markdown",
   "metadata": {},
   "source": [
    "I conclude that the ticket price for the 3rd class started at 3.70 pound, but are mostly just around 7 pounds. Tickets for the 2nd class costed around 12 pounds. Ticket prices for the first class cover a wide range starting from 20 pounds to over 150 pounds. Surprisingly the ticket prices for the different classes overlap largely. This might be due an artifact in the data because ticket prices are not provided on a per passenger basis."
   ]
  },
  {
   "cell_type": "markdown",
   "metadata": {},
   "source": [
    "## Survival"
   ]
  },
  {
   "cell_type": "code",
   "execution_count": 50,
   "metadata": {
    "collapsed": false
   },
   "outputs": [
    {
     "data": {
      "text/html": [
       "<div>\n",
       "<table border=\"1\" class=\"dataframe\">\n",
       "  <thead>\n",
       "    <tr style=\"text-align: right;\">\n",
       "      <th></th>\n",
       "      <th>PassengerId</th>\n",
       "      <th>Survived</th>\n",
       "      <th>Pclass</th>\n",
       "      <th>Age</th>\n",
       "      <th>SibSp</th>\n",
       "      <th>Parch</th>\n",
       "      <th>Fare</th>\n",
       "    </tr>\n",
       "  </thead>\n",
       "  <tbody>\n",
       "    <tr>\n",
       "      <th>PassengerId</th>\n",
       "      <td>1.000000</td>\n",
       "      <td>-0.005007</td>\n",
       "      <td>-0.035144</td>\n",
       "      <td>0.036847</td>\n",
       "      <td>-0.057527</td>\n",
       "      <td>-0.001652</td>\n",
       "      <td>0.012658</td>\n",
       "    </tr>\n",
       "    <tr>\n",
       "      <th>Survived</th>\n",
       "      <td>-0.005007</td>\n",
       "      <td>1.000000</td>\n",
       "      <td>-0.338481</td>\n",
       "      <td>-0.077221</td>\n",
       "      <td>-0.035322</td>\n",
       "      <td>0.081629</td>\n",
       "      <td>0.257307</td>\n",
       "    </tr>\n",
       "    <tr>\n",
       "      <th>Pclass</th>\n",
       "      <td>-0.035144</td>\n",
       "      <td>-0.338481</td>\n",
       "      <td>1.000000</td>\n",
       "      <td>-0.369226</td>\n",
       "      <td>0.083081</td>\n",
       "      <td>0.018443</td>\n",
       "      <td>-0.549500</td>\n",
       "    </tr>\n",
       "    <tr>\n",
       "      <th>Age</th>\n",
       "      <td>0.036847</td>\n",
       "      <td>-0.077221</td>\n",
       "      <td>-0.369226</td>\n",
       "      <td>1.000000</td>\n",
       "      <td>-0.308247</td>\n",
       "      <td>-0.189119</td>\n",
       "      <td>0.096067</td>\n",
       "    </tr>\n",
       "    <tr>\n",
       "      <th>SibSp</th>\n",
       "      <td>-0.057527</td>\n",
       "      <td>-0.035322</td>\n",
       "      <td>0.083081</td>\n",
       "      <td>-0.308247</td>\n",
       "      <td>1.000000</td>\n",
       "      <td>0.414838</td>\n",
       "      <td>0.159651</td>\n",
       "    </tr>\n",
       "    <tr>\n",
       "      <th>Parch</th>\n",
       "      <td>-0.001652</td>\n",
       "      <td>0.081629</td>\n",
       "      <td>0.018443</td>\n",
       "      <td>-0.189119</td>\n",
       "      <td>0.414838</td>\n",
       "      <td>1.000000</td>\n",
       "      <td>0.216225</td>\n",
       "    </tr>\n",
       "    <tr>\n",
       "      <th>Fare</th>\n",
       "      <td>0.012658</td>\n",
       "      <td>0.257307</td>\n",
       "      <td>-0.549500</td>\n",
       "      <td>0.096067</td>\n",
       "      <td>0.159651</td>\n",
       "      <td>0.216225</td>\n",
       "      <td>1.000000</td>\n",
       "    </tr>\n",
       "  </tbody>\n",
       "</table>\n",
       "</div>"
      ],
      "text/plain": [
       "             PassengerId  Survived    Pclass       Age     SibSp     Parch  \\\n",
       "PassengerId     1.000000 -0.005007 -0.035144  0.036847 -0.057527 -0.001652   \n",
       "Survived       -0.005007  1.000000 -0.338481 -0.077221 -0.035322  0.081629   \n",
       "Pclass         -0.035144 -0.338481  1.000000 -0.369226  0.083081  0.018443   \n",
       "Age             0.036847 -0.077221 -0.369226  1.000000 -0.308247 -0.189119   \n",
       "SibSp          -0.057527 -0.035322  0.083081 -0.308247  1.000000  0.414838   \n",
       "Parch          -0.001652  0.081629  0.018443 -0.189119  0.414838  1.000000   \n",
       "Fare            0.012658  0.257307 -0.549500  0.096067  0.159651  0.216225   \n",
       "\n",
       "                 Fare  \n",
       "PassengerId  0.012658  \n",
       "Survived     0.257307  \n",
       "Pclass      -0.549500  \n",
       "Age          0.096067  \n",
       "SibSp        0.159651  \n",
       "Parch        0.216225  \n",
       "Fare         1.000000  "
      ]
     },
     "execution_count": 50,
     "metadata": {},
     "output_type": "execute_result"
    }
   ],
   "source": [
    "# Print out correlation for numerical columns\n",
    "fulldata.corr()"
   ]
  },
  {
   "cell_type": "markdown",
   "metadata": {},
   "source": [
    "There is a slight correlation between age and survival. The largest correlation is obeserved between the passenger class and the survival flag. The second largest correlation for the survived flag is the correlationt with the passenger fare."
   ]
  },
  {
   "cell_type": "code",
   "execution_count": 51,
   "metadata": {
    "collapsed": false
   },
   "outputs": [
    {
     "data": {
      "text/plain": [
       "<matplotlib.legend.Legend at 0xc1c1278>"
      ]
     },
     "execution_count": 51,
     "metadata": {},
     "output_type": "execute_result"
    },
    {
     "data": {
      "image/png": "[encoded data removed]",
      "text/plain": [
       "<matplotlib.figure.Figure at 0x122219e8>"
      ]
     },
     "metadata": {},
     "output_type": "display_data"
    }
   ],
   "source": [
    "# Plot histogram of ages for survivors and victims\n",
    "plt.title('Histogram of ages')\n",
    "plt.xlabel(\"Age\")\n",
    "plt.ylabel(\"Number of passengers\")\n",
    "n_bins = int(math.ceil(fulldata[\"Age\"].max()/5+1))\n",
    "survivors = fulldata[\"Survived\"]==1\n",
    "#print len(fulldata[survivors==False][\"Age\"].fillna(-1))\n",
    "\n",
    "plt.hist([fulldata[survivors][\"Age\"].dropna(), fulldata[survivors==False][\"Age\"].dropna()], \\\n",
    "         bins=n_bins, stacked=True, label=[\"Survived\", \"Not survived\"])\n",
    "plt.legend()"
   ]
  },
  {
   "cell_type": "code",
   "execution_count": 9,
   "metadata": {
    "collapsed": false
   },
   "outputs": [
    {
     "name": "stdout",
     "output_type": "stream",
     "text": [
      "            N  Survival Rate\n",
      "Age                         \n",
      "(0, 5]     44       0.704545\n",
      "(5, 10]    20       0.350000\n",
      "(10, 15]   19       0.578947\n",
      "(15, 20]   96       0.343750\n",
      "(20, 25]  122       0.344262\n",
      "(25, 30]  108       0.388889\n",
      "(30, 35]   88       0.465909\n",
      "(35, 40]   67       0.417910\n",
      "(40, 45]   47       0.361702\n",
      "(45, 50]   39       0.410256\n",
      "(50, 55]   24       0.416667\n",
      "(55, 60]   18       0.388889\n",
      "(60, 65]   14       0.285714\n",
      "(65, 70]    3       0.000000\n",
      "(70, 75]    4       0.000000\n"
     ]
    },
    {
     "data": {
      "image/png": "[encoded data removed]",
      "text/plain": [
       "<matplotlib.figure.Figure at 0xcc6e5c0>"
      ]
     },
     "metadata": {},
     "output_type": "display_data"
    }
   ],
   "source": [
    "grouped_by_age = fulldata.groupby(pd.cut(fulldata[\"Age\"], np.arange(0,fulldata[\"Age\"].max(),5)))\n",
    "survival_rate_by_age = pd.DataFrame()\n",
    "survival_rate_by_age[\"N\"] = grouped_by_age.count()[\"PassengerId\"]\n",
    "survival_rate_by_age[\"Survival Rate\"] = grouped_by_age.mean()[\"Survived\"]\n",
    "\n",
    "ax = survival_rate_by_age[\"Survival Rate\"].plot()\n",
    "\n",
    "ax.set_title(\"Survival rate by age\")\n",
    "ax.set_ylabel(\"Sruvival rate\")\n",
    "ax.set_xlabel(\"Range for age in years\")\n",
    "\n",
    "print survival_rate_by_age"
   ]
  },
  {
   "cell_type": "code",
   "execution_count": 52,
   "metadata": {
    "collapsed": false
   },
   "outputs": [
    {
     "data": {
      "image/png": "[encoded data removed]",
      "text/plain": [
       "<matplotlib.figure.Figure at 0xc3e8710>"
      ]
     },
     "metadata": {},
     "output_type": "display_data"
    },
    {
     "data": {
      "image/png": "[encoded data removed]",
      "text/plain": [
       "<matplotlib.figure.Figure at 0xc3e84e0>"
      ]
     },
     "metadata": {},
     "output_type": "display_data"
    }
   ],
   "source": [
    "# Function to plot absolute numbers and precentages of survivors and victims in given classes defined by column colname\n",
    "def plotSurvivalFor(colname):\n",
    "    df = data_wrangled[[\"Survived\", colname, \"PassengerId\"]].groupby([\"Survived\", colname]).count().unstack(\"Survived\",fill_value=0)\n",
    "    df.columns=[\"Died\", \"Survived\"]\n",
    "    df[[0,1]].plot(kind=\"bar\")\n",
    "\n",
    "    erg = df.apply(lambda row: row*100./float(sum(row)), axis=1)\n",
    "    ax = erg[[0,1]].plot(kind=\"bar\", stacked=True)\n",
    "    ax.set_ylabel(\"%\")\n",
    "\n",
    "plotSurvivalFor(\"Familysize\")"
   ]
  },
  {
   "cell_type": "code",
   "execution_count": 53,
   "metadata": {
    "collapsed": false
   },
   "outputs": [
    {
     "data": {
      "image/png": "[encoded data removed]",
      "text/plain": [
       "<matplotlib.figure.Figure at 0xca879b0>"
      ]
     },
     "metadata": {},
     "output_type": "display_data"
    },
    {
     "data": {
      "image/png": "[encoded data removed]",
      "text/plain": [
       "<matplotlib.figure.Figure at 0xca87390>"
      ]
     },
     "metadata": {},
     "output_type": "display_data"
    }
   ],
   "source": [
    "plotSurvivalFor(\"Sex\")"
   ]
  },
  {
   "cell_type": "code",
   "execution_count": 54,
   "metadata": {
    "collapsed": false
   },
   "outputs": [
    {
     "data": {
      "image/png": "[encoded data removed]",
      "text/plain": [
       "<matplotlib.figure.Figure at 0xcf10240>"
      ]
     },
     "metadata": {},
     "output_type": "display_data"
    },
    {
     "data": {
      "image/png": "[encoded data removed]",
      "text/plain": [
       "<matplotlib.figure.Figure at 0x11463668>"
      ]
     },
     "metadata": {},
     "output_type": "display_data"
    }
   ],
   "source": [
    "plotSurvivalFor(\"Pclass\")"
   ]
  },
  {
   "cell_type": "markdown",
   "metadata": {},
   "source": [
    "From the data is it obvious that several groups had a higher survival rate than others. Most of the men died, while more than 70% of the women survived. Over 60% of the passengers of the first class survived while almost 80% of the passengers of the third class died. Also, it seems, that passengers that travelled with a family of size four survived the disaster more often than those with a smaller or larger family on board or those, that travelled alone."
   ]
  },
  {
   "cell_type": "code",
   "execution_count": null,
   "metadata": {
    "collapsed": true
   },
   "outputs": [],
   "source": []
  }
 ],
 "metadata": {
  "anaconda-cloud": {},
  "kernelspec": {
   "display_name": "Python [default]",
   "language": "python",
   "name": "python2"
  },
  "language_info": {
   "codemirror_mode": {
    "name": "ipython",
    "version": 2
   },
   "file_extension": ".py",
   "mimetype": "text/x-python",
   "name": "python",
   "nbconvert_exporter": "python",
   "pygments_lexer": "ipython2",
   "version": "2.7.12"
  }
 },
 "nbformat": 4,
 "nbformat_minor": 1
}
