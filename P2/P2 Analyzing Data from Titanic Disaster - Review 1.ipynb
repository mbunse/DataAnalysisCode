{
 "cells": [
  {
   "cell_type": "markdown",
   "metadata": {},
   "source": [
    "# P2 Analyzing Data from Titanic Disaster\n",
    "I choose the Titanic disaster data set since as a German I am not so familiar with baseball."
   ]
  },
  {
   "cell_type": "markdown",
   "metadata": {},
   "source": [
    "# Questions to be asked\n",
    "The dataset provides information on the survival of the passengers included. I would like to check if the change of survival has been independent of the passengers sex.\n",
    "\n",
    "Another question is how much the passengers paid in the various passengers classes. "
   ]
  },
  {
   "cell_type": "markdown",
   "metadata": {},
   "source": [
    "## The dataset\n",
    "The dataset provided contains 891 entries representing 891 of the 2224 passengers and crew on board the Titanic. Since I could not find more information on the subset of passengers the data has been taken from I assume that the sample is representative for all passengers, when I draw my conclusions.\n",
    "\n",
    "The survived flag indicates whether the respective person did survive. 62 % of the passengers, i.e. 549, did not survive the disaster."
   ]
  },
  {
   "cell_type": "code",
   "execution_count": 1,
   "metadata": {
    "collapsed": false
   },
   "outputs": [],
   "source": [
    "# Importing libraries, general settings\n",
    "import pandas as pd\n",
    "import csv \n",
    "import numpy as np\n",
    "import matplotlib.pyplot as plt\n",
    "import seaborn as sns\n",
    "import math\n",
    "%matplotlib inline"
   ]
  },
  {
   "cell_type": "code",
   "execution_count": 2,
   "metadata": {
    "collapsed": false
   },
   "outputs": [
    {
     "name": "stdout",
     "output_type": "stream",
     "text": [
      "Number of rows: 891\n",
      "Columns\n",
      "Index([u'PassengerId', u'Survived', u'Pclass', u'Name', u'Sex', u'Age',\n",
      "       u'SibSp', u'Parch', u'Ticket', u'Fare', u'Cabin', u'Embarked'],\n",
      "      dtype='object')\n",
      "891\n"
     ]
    }
   ],
   "source": [
    "#Importing the data\n",
    "fulldata = pd.read_csv(\"titanic-data.csv\")\n",
    "print \"Number of rows:\", len(fulldata)\n",
    "print \"Columns\"\n",
    "print fulldata.columns\n",
    "n_passengers = len(fulldata)\n",
    "print n_passengers\n"
   ]
  },
  {
   "cell_type": "markdown",
   "metadata": {},
   "source": [
    "In the following I check all the columns for strange data"
   ]
  },
  {
   "cell_type": "code",
   "execution_count": 3,
   "metadata": {
    "collapsed": false
   },
   "outputs": [
    {
     "name": "stdout",
     "output_type": "stream",
     "text": [
      "<class 'pandas.core.frame.DataFrame'>\n",
      "RangeIndex: 891 entries, 0 to 890\n",
      "Data columns (total 12 columns):\n",
      "PassengerId    891 non-null int64\n",
      "Survived       891 non-null int64\n",
      "Pclass         891 non-null int64\n",
      "Name           891 non-null object\n",
      "Sex            891 non-null object\n",
      "Age            714 non-null float64\n",
      "SibSp          891 non-null int64\n",
      "Parch          891 non-null int64\n",
      "Ticket         891 non-null object\n",
      "Fare           891 non-null float64\n",
      "Cabin          204 non-null object\n",
      "Embarked       889 non-null object\n",
      "dtypes: float64(2), int64(5), object(5)\n",
      "memory usage: 83.6+ KB\n"
     ]
    },
    {
     "data": {
      "text/html": [
       "<div>\n",
       "<table border=\"1\" class=\"dataframe\">\n",
       "  <thead>\n",
       "    <tr style=\"text-align: right;\">\n",
       "      <th></th>\n",
       "      <th>PassengerId</th>\n",
       "      <th>Survived</th>\n",
       "      <th>Pclass</th>\n",
       "      <th>Name</th>\n",
       "      <th>Sex</th>\n",
       "      <th>Age</th>\n",
       "      <th>SibSp</th>\n",
       "      <th>Parch</th>\n",
       "      <th>Ticket</th>\n",
       "      <th>Fare</th>\n",
       "      <th>Cabin</th>\n",
       "      <th>Embarked</th>\n",
       "    </tr>\n",
       "  </thead>\n",
       "  <tbody>\n",
       "    <tr>\n",
       "      <th>0</th>\n",
       "      <td>1</td>\n",
       "      <td>0</td>\n",
       "      <td>3</td>\n",
       "      <td>Braund, Mr. Owen Harris</td>\n",
       "      <td>male</td>\n",
       "      <td>22.0</td>\n",
       "      <td>1</td>\n",
       "      <td>0</td>\n",
       "      <td>A/5 21171</td>\n",
       "      <td>7.2500</td>\n",
       "      <td>NaN</td>\n",
       "      <td>S</td>\n",
       "    </tr>\n",
       "    <tr>\n",
       "      <th>1</th>\n",
       "      <td>2</td>\n",
       "      <td>1</td>\n",
       "      <td>1</td>\n",
       "      <td>Cumings, Mrs. John Bradley (Florence Briggs Th...</td>\n",
       "      <td>female</td>\n",
       "      <td>38.0</td>\n",
       "      <td>1</td>\n",
       "      <td>0</td>\n",
       "      <td>PC 17599</td>\n",
       "      <td>71.2833</td>\n",
       "      <td>C85</td>\n",
       "      <td>C</td>\n",
       "    </tr>\n",
       "    <tr>\n",
       "      <th>2</th>\n",
       "      <td>3</td>\n",
       "      <td>1</td>\n",
       "      <td>3</td>\n",
       "      <td>Heikkinen, Miss. Laina</td>\n",
       "      <td>female</td>\n",
       "      <td>26.0</td>\n",
       "      <td>0</td>\n",
       "      <td>0</td>\n",
       "      <td>STON/O2. 3101282</td>\n",
       "      <td>7.9250</td>\n",
       "      <td>NaN</td>\n",
       "      <td>S</td>\n",
       "    </tr>\n",
       "    <tr>\n",
       "      <th>3</th>\n",
       "      <td>4</td>\n",
       "      <td>1</td>\n",
       "      <td>1</td>\n",
       "      <td>Futrelle, Mrs. Jacques Heath (Lily May Peel)</td>\n",
       "      <td>female</td>\n",
       "      <td>35.0</td>\n",
       "      <td>1</td>\n",
       "      <td>0</td>\n",
       "      <td>113803</td>\n",
       "      <td>53.1000</td>\n",
       "      <td>C123</td>\n",
       "      <td>S</td>\n",
       "    </tr>\n",
       "    <tr>\n",
       "      <th>4</th>\n",
       "      <td>5</td>\n",
       "      <td>0</td>\n",
       "      <td>3</td>\n",
       "      <td>Allen, Mr. William Henry</td>\n",
       "      <td>male</td>\n",
       "      <td>35.0</td>\n",
       "      <td>0</td>\n",
       "      <td>0</td>\n",
       "      <td>373450</td>\n",
       "      <td>8.0500</td>\n",
       "      <td>NaN</td>\n",
       "      <td>S</td>\n",
       "    </tr>\n",
       "  </tbody>\n",
       "</table>\n",
       "</div>"
      ],
      "text/plain": [
       "   PassengerId  Survived  Pclass  \\\n",
       "0            1         0       3   \n",
       "1            2         1       1   \n",
       "2            3         1       3   \n",
       "3            4         1       1   \n",
       "4            5         0       3   \n",
       "\n",
       "                                                Name     Sex   Age  SibSp  \\\n",
       "0                            Braund, Mr. Owen Harris    male  22.0      1   \n",
       "1  Cumings, Mrs. John Bradley (Florence Briggs Th...  female  38.0      1   \n",
       "2                             Heikkinen, Miss. Laina  female  26.0      0   \n",
       "3       Futrelle, Mrs. Jacques Heath (Lily May Peel)  female  35.0      1   \n",
       "4                           Allen, Mr. William Henry    male  35.0      0   \n",
       "\n",
       "   Parch            Ticket     Fare Cabin Embarked  \n",
       "0      0         A/5 21171   7.2500   NaN        S  \n",
       "1      0          PC 17599  71.2833   C85        C  \n",
       "2      0  STON/O2. 3101282   7.9250   NaN        S  \n",
       "3      0            113803  53.1000  C123        S  \n",
       "4      0            373450   8.0500   NaN        S  "
      ]
     },
     "execution_count": 3,
     "metadata": {},
     "output_type": "execute_result"
    }
   ],
   "source": [
    "# Print information on dataset:\n",
    "fulldata.info()\n",
    "\n",
    "# Print first few rows\n",
    "fulldata.head()\n"
   ]
  },
  {
   "cell_type": "markdown",
   "metadata": {},
   "source": [
    "The following table gives an overview over the information included in the dataset:\n",
    "\n",
    "| Column name | Values | Description | Has missing values? | Example |\n",
    "| --- | --- | --- | --- |\n",
    "| PassengerId | 1 to 891]  | unique identifier for passengers | No | 1 |\n",
    "| Survived | 0 or 1 | flag to indicate if passenger survived the disaster (1) or died (0) | No | 0 |\n",
    "| PClass | 1,2 or 3 | Number of passenger class passengers was booked to | No | 3 |\n",
    "| Name | string, full name | Full name of passenger | No | \"Braund, Mr. Owen Harris\" | \n",
    "| Sex | \"female\" or \"male\" | Sex of passenger | No | \"male\" |\n",
    "| Age | age in years | Age of passenger. Ages for passenger older than a year are given in integer numbers. 0.5 have been added to indicate that the age has been estimated | Yes | 22.0 |\n",
    "| SibSp | Integer | Number of sibling plus spouse aboard | No | 1 |\n",
    "| Parch | Integer | Number of parents plus children aboard | No | 1 |\n",
    "| Ticket | String, ticket number | Ticket \"number\" of the passenger | No | \"A/5 21171\" |\n",
    "| Fare | Float | Passenger fare in pound | No | 71.2833 |\n",
    "| Cabin | String | Cabin of passenger | No | \"C85\" |\n",
    "| Embarked | \"C\", \"Q\" or \"S\" | C stands for Cherbourg, Q for Queenstown and S for Southampton | Yes | \"S\" |\n",
    "\n",
    "\n",
    "Source: https://www.kaggle.com/c/titanic/data"
   ]
  },
  {
   "cell_type": "code",
   "execution_count": 4,
   "metadata": {
    "collapsed": false
   },
   "outputs": [
    {
     "name": "stdout",
     "output_type": "stream",
     "text": [
      "Number of survivors: 342  (38.38 %)\n",
      "Number of victims: 549  (61.62 %)\n"
     ]
    }
   ],
   "source": [
    "# Calculate number of survivors\n",
    "n_per_survival = fulldata.groupby(\"Survived\").count()[\"PassengerId\"]\n",
    "\n",
    "# Function to convert series in percent of sum of series:\n",
    "def convertToPercentOfColumn(series):\n",
    "    colSum = sum(series)\n",
    "    return series.apply(func=lambda col: col*100./colSum)\n",
    "\n",
    "perc_per_survival = convertToPercentOfColumn(n_per_survival)\n",
    "\n",
    "# Count survivors\n",
    "print \"Number of survivors:\", n_per_survival[1], \" (%.2f %%)\" % (perc_per_survival[1])\n",
    "print \"Number of victims:\", n_per_survival[0], \" (%.2f %%)\" % (perc_per_survival[0])"
   ]
  },
  {
   "cell_type": "markdown",
   "metadata": {},
   "source": [
    "61.62% of the passengers in the sample died."
   ]
  },
  {
   "cell_type": "code",
   "execution_count": 5,
   "metadata": {
    "collapsed": false
   },
   "outputs": [
    {
     "name": "stdout",
     "output_type": "stream",
     "text": [
      "Number of female passengers: 314  (35.24 %)\n",
      "Number of male passengers: 577  (64.76 %)\n"
     ]
    }
   ],
   "source": [
    "n_per_sex = fulldata.groupby(\"Sex\").count()[\"PassengerId\"]\n",
    "perc_per_sex = convertToPercentOfColumn(n_per_sex)\n",
    "\n",
    "# Count female passengers\n",
    "print \"Number of female passengers:\", n_per_sex[\"female\"], \" (%.2f %%)\" % (perc_per_sex[\"female\"])\n",
    "print \"Number of male passengers:\", n_per_sex[\"male\"], \" (%.2f %%)\" % (perc_per_sex[\"male\"])"
   ]
  },
  {
   "cell_type": "markdown",
   "metadata": {},
   "source": [
    "The dataset contains data from 577 men and 314 women. "
   ]
  },
  {
   "cell_type": "code",
   "execution_count": 6,
   "metadata": {
    "collapsed": false
   },
   "outputs": [
    {
     "data": {
      "text/plain": [
       "<matplotlib.text.Text at 0xc2893c8>"
      ]
     },
     "execution_count": 6,
     "metadata": {},
     "output_type": "execute_result"
    },
    {
     "data": {
      "image/png": "[encoded data removed]",
      "text/plain": [
       "<matplotlib.figure.Figure at 0xc2432e8>"
      ]
     },
     "metadata": {},
     "output_type": "display_data"
    }
   ],
   "source": [
    "n_per_pclass = fulldata.groupby(\"Pclass\").count()[\"PassengerId\"]\n",
    "\n",
    "# Plot percentage of customers per passenger class\n",
    "perc_per_pclass = convertToPercentOfColumn(n_per_pclass)\n",
    "ax = perc_per_pclass.plot.bar()\n",
    "ax.set_ylabel(\"Percentage of passengers\")\n",
    "ax.set_xlabel(\"Passenger Class\")\n",
    "ax.set_xticklabels([\"1st\", \"2nd\", \"3rd\"], rotation=0)\n",
    "ax.set_title(\"Passenger classes\")"
   ]
  },
  {
   "cell_type": "markdown",
   "metadata": {},
   "source": [
    "Most passengers, over 50 %, travelled in the 3rd class. Interestingly, more passengers booked the first class than the second class."
   ]
  },
  {
   "cell_type": "code",
   "execution_count": 7,
   "metadata": {
    "collapsed": false
   },
   "outputs": [
    {
     "data": {
      "text/plain": [
       "<matplotlib.text.Text at 0xc4c5940>"
      ]
     },
     "execution_count": 7,
     "metadata": {},
     "output_type": "execute_result"
    },
    {
     "data": {
      "image/png": "[encoded data removed]",
      "text/plain": [
       "<matplotlib.figure.Figure at 0xc397710>"
      ]
     },
     "metadata": {},
     "output_type": "display_data"
    }
   ],
   "source": [
    "n_bins = int(math.ceil(fulldata[\"Age\"].max()+1))\n",
    "ax = fulldata[\"Age\"].hist()\n",
    "ax.set_xlabel(\"Age in years\")\n",
    "ax.set_ylabel(\"Number of passengers\")\n",
    "ax.set_title(\"Age of passengers\")"
   ]
  },
  {
   "cell_type": "code",
   "execution_count": 8,
   "metadata": {
    "collapsed": false
   },
   "outputs": [
    {
     "name": "stdout",
     "output_type": "stream",
     "text": [
      "count    714.000000\n",
      "mean      29.699118\n",
      "std       14.526497\n",
      "min        0.420000\n",
      "25%             NaN\n",
      "50%             NaN\n",
      "75%             NaN\n",
      "max       80.000000\n",
      "Name: Age, dtype: float64\n",
      "Number of passengers with age missing: 177 (19.87 %)\n"
     ]
    },
    {
     "name": "stderr",
     "output_type": "stream",
     "text": [
      "C:\\Users\\Moritz\\Anaconda2\\lib\\site-packages\\numpy\\lib\\function_base.py:3834: RuntimeWarning: Invalid value encountered in percentile\n",
      "  RuntimeWarning)\n"
     ]
    }
   ],
   "source": [
    "print fulldata[\"Age\"].describe()\n",
    "n_missing_age = len(fulldata[fulldata[\"Age\"].isnull()][\"Age\"])\n",
    "print \"Number of passengers with age missing: %.0f (%.2f %%)\" % (n_missing_age, n_missing_age*100./len(fulldata) )"
   ]
  },
  {
   "cell_type": "markdown",
   "metadata": {},
   "source": [
    "For 177 passengers (20 %) the age is missing. It looks a bit suspicious, that there is only one passenger age 23. This might be due to the selection of the subset of passengers but I was not able to find out more details about the subset. The mean age of the passengers is 29.7 years, while the mode is 24 (both calculated neglecting missing ages)."
   ]
  },
  {
   "cell_type": "code",
   "execution_count": 9,
   "metadata": {
    "collapsed": false
   },
   "outputs": [
    {
     "data": {
      "text/plain": [
       "[<matplotlib.text.Text at 0xc6dde10>,\n",
       " <matplotlib.text.Text at 0xc727320>,\n",
       " <matplotlib.text.Text at 0xc78d278>,\n",
       " <matplotlib.text.Text at 0xc78d908>,\n",
       " <matplotlib.text.Text at 0xc78df98>,\n",
       " <matplotlib.text.Text at 0xca45668>,\n",
       " <matplotlib.text.Text at 0xca45cf8>]"
      ]
     },
     "execution_count": 9,
     "metadata": {},
     "output_type": "execute_result"
    },
    {
     "data": {
      "image/png": "[encoded data removed]",
      "text/plain": [
       "<matplotlib.figure.Figure at 0xc6c4400>"
      ]
     },
     "metadata": {},
     "output_type": "display_data"
    }
   ],
   "source": [
    "ax = fulldata.groupby(\"SibSp\").count()[\"PassengerId\"].plot.bar()\n",
    "ax.set_ylabel(\"Number of passengers\")\n",
    "ax.set_xlabel(\"Number of siblings plus spouse aboard\")\n",
    "ax.set_title(\"Siblings and Spouse\")\n",
    "ax.set_xticklabels(ax.get_xticklabels(), rotation=0)"
   ]
  },
  {
   "cell_type": "code",
   "execution_count": 10,
   "metadata": {
    "collapsed": false
   },
   "outputs": [
    {
     "data": {
      "text/plain": [
       "[<matplotlib.text.Text at 0xca6d9e8>,\n",
       " <matplotlib.text.Text at 0xcbe5668>,\n",
       " <matplotlib.text.Text at 0xcb15b00>,\n",
       " <matplotlib.text.Text at 0xcb211d0>,\n",
       " <matplotlib.text.Text at 0xcb21860>,\n",
       " <matplotlib.text.Text at 0xcb21ef0>,\n",
       " <matplotlib.text.Text at 0xcb2e5c0>]"
      ]
     },
     "execution_count": 10,
     "metadata": {},
     "output_type": "execute_result"
    },
    {
     "data": {
      "image/png": "[encoded data removed]",
      "text/plain": [
       "<matplotlib.figure.Figure at 0xca45400>"
      ]
     },
     "metadata": {},
     "output_type": "display_data"
    }
   ],
   "source": [
    "ax = fulldata.groupby(\"Parch\").count()[\"PassengerId\"].plot.bar()\n",
    "ax.set_ylabel(\"Number of passengers\")\n",
    "ax.set_xlabel(\"Numer of children and parents aboard\")\n",
    "ax.set_title(\"Parents and children aboard\")\n",
    "ax.set_xticklabels(ax.get_xticklabels(), rotation=0)"
   ]
  },
  {
   "cell_type": "markdown",
   "metadata": {},
   "source": [
    "The dataset provides information about the number of relatives on board the Titanic. Only parents, children, siblings and spouse have been taken into account to build the data according to the description of the dataset.\n",
    "\n",
    "Most of the passengers were traveling without spouse or close relatives, according to the data."
   ]
  },
  {
   "cell_type": "code",
   "execution_count": 11,
   "metadata": {
    "collapsed": false,
    "scrolled": true
   },
   "outputs": [
    {
     "name": "stdout",
     "output_type": "stream",
     "text": [
      "Tickets for more than six passengers:\n",
      "['1601' '347082' 'CA. 2343']\n",
      "\n",
      "\n",
      "       Ticket                                               Name\n",
      "74       1601                                      Bing, Mr. Lee\n",
      "838      1601                                    Chip, Mr. Chang\n",
      "826      1601                                       Lam, Mr. Len\n",
      "169      1601                                      Ling, Mr. Lee\n",
      "692      1601                                       Lam, Mr. Ali\n",
      "643      1601                                    Foo, Mr. Choong\n",
      "509      1601                                     Lang, Mr. Fang\n",
      "13     347082                        Andersson, Mr. Anders Johan\n",
      "813    347082                 Andersson, Miss. Ebba Iris Alfrida\n",
      "610    347082  Andersson, Mrs. Anders Johan (Alfrida Konstant...\n",
      "542    347082                  Andersson, Miss. Sigrid Elisabeth\n",
      "541    347082               Andersson, Miss. Ingeborg Constanzia\n",
      "119    347082                  Andersson, Miss. Ellis Anna Maria\n",
      "850    347082            Andersson, Master. Sigvard Harald Elias\n",
      "324  CA. 2343                           Sage, Mr. George John Jr\n",
      "201  CA. 2343                                Sage, Mr. Frederick\n",
      "792  CA. 2343                            Sage, Miss. Stella Anna\n",
      "180  CA. 2343                       Sage, Miss. Constance Gladys\n",
      "159  CA. 2343                         Sage, Master. Thomas Henry\n",
      "846  CA. 2343                           Sage, Mr. Douglas Bullen\n",
      "863  CA. 2343                  Sage, Miss. Dorothy Edith \"Dolly\"\n"
     ]
    }
   ],
   "source": [
    "# Group data by ticket number and count number of passengers per ticket number\n",
    "pass_per_ticket = fulldata.groupby(\"Ticket\").count()\n",
    "\n",
    "# Print ticket numbers for tickets that are shared between 7 or more people\n",
    "family_tickets = pass_per_ticket[pass_per_ticket[\"PassengerId\"]>=7].index.values\n",
    "print \"Tickets for more than six passengers:\"\n",
    "print family_tickets\n",
    "\n",
    "# Print data for \"family\" tickets\n",
    "print \"\\n\"\n",
    "print fulldata[fulldata[\"Ticket\"].isin(family_tickets)].sort_values(by=\"Ticket\")[[\"Ticket\", \"Name\"]]"
   ]
  },
  {
   "cell_type": "markdown",
   "metadata": {},
   "source": [
    "Some passengers share the same ticket number. E.g. the Anderson and the Sage family."
   ]
  },
  {
   "cell_type": "code",
   "execution_count": 12,
   "metadata": {
    "collapsed": false
   },
   "outputs": [
    {
     "name": "stdout",
     "output_type": "stream",
     "text": [
      "Mean passenger fare: 32.20 pound\n"
     ]
    },
    {
     "data": {
      "text/plain": [
       "<matplotlib.text.Text at 0xcdc4198>"
      ]
     },
     "execution_count": 12,
     "metadata": {},
     "output_type": "execute_result"
    },
    {
     "data": {
      "image/png": "[encoded data removed]",
      "text/plain": [
       "<matplotlib.figure.Figure at 0xca4f160>"
      ]
     },
     "metadata": {},
     "output_type": "display_data"
    }
   ],
   "source": [
    "print \"Mean passenger fare: %.2f pound\" % ( fulldata[\"Fare\"].mean())\n",
    "\n",
    "# Plot fares\n",
    "ax = fulldata.groupby(\"Fare\").count()[\"PassengerId\"].hist()\n",
    "ax.set_ylabel(\"Number of passengers\")\n",
    "ax.set_xlabel(\"Passenger fare in pound\")\n",
    "ax.set_title(\"Passenger fare\")"
   ]
  },
  {
   "cell_type": "markdown",
   "metadata": {},
   "source": [
    "The mean passenger fare is 32.20 pound. "
   ]
  },
  {
   "cell_type": "code",
   "execution_count": 13,
   "metadata": {
    "collapsed": false
   },
   "outputs": [
    {
     "name": "stdout",
     "output_type": "stream",
     "text": [
      "count             204\n",
      "unique            147\n",
      "top       C23 C25 C27\n",
      "freq                4\n",
      "Name: Cabin, dtype: object\n",
      "0     NaN\n",
      "1     C85\n",
      "2     NaN\n",
      "3    C123\n",
      "4     NaN\n",
      "Name: Cabin, dtype: object\n",
      "Passengers without cabin in data: 687\n",
      "Passengers with cabin in data: 204\n"
     ]
    }
   ],
   "source": [
    "# Describe data in column\n",
    "print fulldata[\"Cabin\"].describe()\n",
    "\n",
    "# Print first rows of column \"Cabin\"\n",
    "print fulldata[\"Cabin\"].head()\n",
    "\n",
    "# Count number of passengers without an assigned cabin\n",
    "n_cabin_missing = fulldata[\"Cabin\"].isnull().sum()\n",
    "\n",
    "print \"Passengers without cabin in data:\", n_cabin_missing\n",
    "print \"Passengers with cabin in data:\", n_passengers - n_cabin_missing"
   ]
  },
  {
   "cell_type": "markdown",
   "metadata": {},
   "source": [
    "For only 204 of the passengers a cabin is provided in the data."
   ]
  },
  {
   "cell_type": "code",
   "execution_count": 14,
   "metadata": {
    "collapsed": false
   },
   "outputs": [
    {
     "data": {
      "image/png": "[encoded data removed]",
      "text/plain": [
       "<matplotlib.figure.Figure at 0xcdb9048>"
      ]
     },
     "metadata": {},
     "output_type": "display_data"
    }
   ],
   "source": [
    "# Plot harbor of embarking\n",
    "n_per_harbor = fulldata.groupby(\"Embarked\", as_index=False).count()[[\"PassengerId\", \"Embarked\"]]\n",
    "def setHarbor(embark):\n",
    "    harborFromEmbark = {\"C\":\"Cherbourg\", \"Q\":\"Queenstown\", \"S\":\"Southampton\"}\n",
    "    return harborFromEmbark[embark]\n",
    "\n",
    "n_per_harbor[\"Harbor\"]=n_per_harbor[\"Embarked\"].apply(setHarbor)\n",
    "n_per_harbor.set_index(\"Harbor\", inplace=True)\n",
    "\n",
    "ax = n_per_harbor.plot.bar()\n",
    "ax.set_title(\"Embarking\")\n",
    "ax.set_ylabel(\"Number of passengers\")\n",
    "ax.set_xlabel(\"Harbor\")\n",
    "ax.legend_.remove()"
   ]
  },
  {
   "cell_type": "markdown",
   "metadata": {},
   "source": [
    "For few passengers the habro of embarking is missing in the data. Most of the passengers embarked in Southampton (72 %). The fewest embarked in Queenstown (9 %). "
   ]
  },
  {
   "cell_type": "markdown",
   "metadata": {},
   "source": [
    "# Data Cleaning and Enhancement\n",
    "Some ages of the passengers are missing. During the rest of the analysis I keep that in mind but I do not want to give those people default ages since this would have an impact on calculated statistics.\n",
    "\n",
    "For two passengers the harbour of embarking is missing. Since, according to [Wikipedia](https://en.wikipedia.org/wiki/RMS_Titanic), the Titanic just stopped in the mentioned three harbours, it might be possible to estimate the harbour of embarking from the fare or the ticket number.\n",
    "\n",
    "Since only 204 passengers have an assigned cabin and I do not have more information on e.g. the position of the cabins I leave the missing cabins as they are, also because none of the posed questions requires this inforamtion to be answered.\n",
    "\n",
    "I also want to extract family names from the passenger names.\n",
    "\n",
    "To get some Ideas on how to clean the data I had a look at https://www.kaggle.com/mrisdal/titanic/exploring-survival-on-the-titanic."
   ]
  },
  {
   "cell_type": "markdown",
   "metadata": {},
   "source": [
    "It seems to be the case, that the given fare is the full ticket price and not the ticket price per person. To correct for this I divide by the number of persons on the given ticket."
   ]
  },
  {
   "cell_type": "markdown",
   "metadata": {},
   "source": [
    "There are still some high ticket prices for some passengers in the third class. This might be due to the fact, that the dataset does not contain data on all passengers. Therefore, the conclusions about the distribution of passenger fares have to be handled with care."
   ]
  },
  {
   "cell_type": "code",
   "execution_count": 15,
   "metadata": {
    "collapsed": false
   },
   "outputs": [
    {
     "data": {
      "text/html": [
       "<div>\n",
       "<table border=\"1\" class=\"dataframe\">\n",
       "  <thead>\n",
       "    <tr style=\"text-align: right;\">\n",
       "      <th></th>\n",
       "      <th>PassengerId</th>\n",
       "      <th>Survived</th>\n",
       "      <th>Pclass</th>\n",
       "      <th>Name</th>\n",
       "      <th>Sex</th>\n",
       "      <th>Age</th>\n",
       "      <th>SibSp</th>\n",
       "      <th>Parch</th>\n",
       "      <th>Ticket</th>\n",
       "      <th>Fare</th>\n",
       "      <th>Cabin</th>\n",
       "      <th>Embarked</th>\n",
       "    </tr>\n",
       "  </thead>\n",
       "  <tbody>\n",
       "    <tr>\n",
       "      <th>61</th>\n",
       "      <td>62</td>\n",
       "      <td>1</td>\n",
       "      <td>1</td>\n",
       "      <td>Icard, Miss. Amelie</td>\n",
       "      <td>female</td>\n",
       "      <td>38.0</td>\n",
       "      <td>0</td>\n",
       "      <td>0</td>\n",
       "      <td>113572</td>\n",
       "      <td>80.0</td>\n",
       "      <td>B28</td>\n",
       "      <td>NaN</td>\n",
       "    </tr>\n",
       "    <tr>\n",
       "      <th>829</th>\n",
       "      <td>830</td>\n",
       "      <td>1</td>\n",
       "      <td>1</td>\n",
       "      <td>Stone, Mrs. George Nelson (Martha Evelyn)</td>\n",
       "      <td>female</td>\n",
       "      <td>62.0</td>\n",
       "      <td>0</td>\n",
       "      <td>0</td>\n",
       "      <td>113572</td>\n",
       "      <td>80.0</td>\n",
       "      <td>B28</td>\n",
       "      <td>NaN</td>\n",
       "    </tr>\n",
       "  </tbody>\n",
       "</table>\n",
       "</div>"
      ],
      "text/plain": [
       "     PassengerId  Survived  Pclass                                       Name  \\\n",
       "61            62         1       1                        Icard, Miss. Amelie   \n",
       "829          830         1       1  Stone, Mrs. George Nelson (Martha Evelyn)   \n",
       "\n",
       "        Sex   Age  SibSp  Parch  Ticket  Fare Cabin Embarked  \n",
       "61   female  38.0      0      0  113572  80.0   B28      NaN  \n",
       "829  female  62.0      0      0  113572  80.0   B28      NaN  "
      ]
     },
     "execution_count": 15,
     "metadata": {},
     "output_type": "execute_result"
    }
   ],
   "source": [
    "fulldata[fulldata[\"Embarked\"].isnull()]"
   ]
  },
  {
   "cell_type": "code",
   "execution_count": 16,
   "metadata": {
    "collapsed": false
   },
   "outputs": [
    {
     "data": {
      "text/html": [
       "<div>\n",
       "<table border=\"1\" class=\"dataframe\">\n",
       "  <thead>\n",
       "    <tr style=\"text-align: right;\">\n",
       "      <th></th>\n",
       "      <th>PassengerId</th>\n",
       "      <th>Survived</th>\n",
       "      <th>Pclass</th>\n",
       "      <th>Name</th>\n",
       "      <th>Sex</th>\n",
       "      <th>Age</th>\n",
       "      <th>SibSp</th>\n",
       "      <th>Parch</th>\n",
       "      <th>Ticket</th>\n",
       "      <th>Fare</th>\n",
       "      <th>Cabin</th>\n",
       "      <th>Embarked</th>\n",
       "    </tr>\n",
       "  </thead>\n",
       "  <tbody>\n",
       "    <tr>\n",
       "      <th>711</th>\n",
       "      <td>712</td>\n",
       "      <td>0</td>\n",
       "      <td>1</td>\n",
       "      <td>Klaber, Mr. Herman</td>\n",
       "      <td>male</td>\n",
       "      <td>NaN</td>\n",
       "      <td>0</td>\n",
       "      <td>0</td>\n",
       "      <td>113028</td>\n",
       "      <td>26.5500</td>\n",
       "      <td>C124</td>\n",
       "      <td>S</td>\n",
       "    </tr>\n",
       "    <tr>\n",
       "      <th>331</th>\n",
       "      <td>332</td>\n",
       "      <td>0</td>\n",
       "      <td>1</td>\n",
       "      <td>Partner, Mr. Austen</td>\n",
       "      <td>male</td>\n",
       "      <td>45.50</td>\n",
       "      <td>0</td>\n",
       "      <td>0</td>\n",
       "      <td>113043</td>\n",
       "      <td>28.5000</td>\n",
       "      <td>C124</td>\n",
       "      <td>S</td>\n",
       "    </tr>\n",
       "    <tr>\n",
       "      <th>536</th>\n",
       "      <td>537</td>\n",
       "      <td>0</td>\n",
       "      <td>1</td>\n",
       "      <td>Butt, Major. Archibald Willingham</td>\n",
       "      <td>male</td>\n",
       "      <td>45.00</td>\n",
       "      <td>0</td>\n",
       "      <td>0</td>\n",
       "      <td>113050</td>\n",
       "      <td>26.5500</td>\n",
       "      <td>B38</td>\n",
       "      <td>S</td>\n",
       "    </tr>\n",
       "    <tr>\n",
       "      <th>452</th>\n",
       "      <td>453</td>\n",
       "      <td>0</td>\n",
       "      <td>1</td>\n",
       "      <td>Foreman, Mr. Benjamin Laventall</td>\n",
       "      <td>male</td>\n",
       "      <td>30.00</td>\n",
       "      <td>0</td>\n",
       "      <td>0</td>\n",
       "      <td>113051</td>\n",
       "      <td>27.7500</td>\n",
       "      <td>C111</td>\n",
       "      <td>C</td>\n",
       "    </tr>\n",
       "    <tr>\n",
       "      <th>857</th>\n",
       "      <td>858</td>\n",
       "      <td>1</td>\n",
       "      <td>1</td>\n",
       "      <td>Daly, Mr. Peter Denis</td>\n",
       "      <td>male</td>\n",
       "      <td>51.00</td>\n",
       "      <td>0</td>\n",
       "      <td>0</td>\n",
       "      <td>113055</td>\n",
       "      <td>26.5500</td>\n",
       "      <td>E17</td>\n",
       "      <td>S</td>\n",
       "    </tr>\n",
       "    <tr>\n",
       "      <th>284</th>\n",
       "      <td>285</td>\n",
       "      <td>0</td>\n",
       "      <td>1</td>\n",
       "      <td>Smith, Mr. Richard William</td>\n",
       "      <td>male</td>\n",
       "      <td>NaN</td>\n",
       "      <td>0</td>\n",
       "      <td>0</td>\n",
       "      <td>113056</td>\n",
       "      <td>26.0000</td>\n",
       "      <td>A19</td>\n",
       "      <td>S</td>\n",
       "    </tr>\n",
       "    <tr>\n",
       "      <th>83</th>\n",
       "      <td>84</td>\n",
       "      <td>0</td>\n",
       "      <td>1</td>\n",
       "      <td>Carrau, Mr. Francisco M</td>\n",
       "      <td>male</td>\n",
       "      <td>28.00</td>\n",
       "      <td>0</td>\n",
       "      <td>0</td>\n",
       "      <td>113059</td>\n",
       "      <td>47.1000</td>\n",
       "      <td>NaN</td>\n",
       "      <td>S</td>\n",
       "    </tr>\n",
       "    <tr>\n",
       "      <th>782</th>\n",
       "      <td>783</td>\n",
       "      <td>0</td>\n",
       "      <td>1</td>\n",
       "      <td>Long, Mr. Milton Clyde</td>\n",
       "      <td>male</td>\n",
       "      <td>29.00</td>\n",
       "      <td>0</td>\n",
       "      <td>0</td>\n",
       "      <td>113501</td>\n",
       "      <td>30.0000</td>\n",
       "      <td>D6</td>\n",
       "      <td>S</td>\n",
       "    </tr>\n",
       "    <tr>\n",
       "      <th>377</th>\n",
       "      <td>378</td>\n",
       "      <td>0</td>\n",
       "      <td>1</td>\n",
       "      <td>Widener, Mr. Harry Elkins</td>\n",
       "      <td>male</td>\n",
       "      <td>27.00</td>\n",
       "      <td>0</td>\n",
       "      <td>2</td>\n",
       "      <td>113503</td>\n",
       "      <td>211.5000</td>\n",
       "      <td>C82</td>\n",
       "      <td>C</td>\n",
       "    </tr>\n",
       "    <tr>\n",
       "      <th>166</th>\n",
       "      <td>167</td>\n",
       "      <td>1</td>\n",
       "      <td>1</td>\n",
       "      <td>Chibnall, Mrs. (Edith Martha Bowerman)</td>\n",
       "      <td>female</td>\n",
       "      <td>NaN</td>\n",
       "      <td>0</td>\n",
       "      <td>1</td>\n",
       "      <td>113505</td>\n",
       "      <td>55.0000</td>\n",
       "      <td>E33</td>\n",
       "      <td>S</td>\n",
       "    </tr>\n",
       "    <tr>\n",
       "      <th>356</th>\n",
       "      <td>357</td>\n",
       "      <td>1</td>\n",
       "      <td>1</td>\n",
       "      <td>Bowerman, Miss. Elsie Edith</td>\n",
       "      <td>female</td>\n",
       "      <td>22.00</td>\n",
       "      <td>0</td>\n",
       "      <td>1</td>\n",
       "      <td>113505</td>\n",
       "      <td>55.0000</td>\n",
       "      <td>E33</td>\n",
       "      <td>S</td>\n",
       "    </tr>\n",
       "    <tr>\n",
       "      <th>54</th>\n",
       "      <td>55</td>\n",
       "      <td>0</td>\n",
       "      <td>1</td>\n",
       "      <td>Ostby, Mr. Engelhart Cornelius</td>\n",
       "      <td>male</td>\n",
       "      <td>65.00</td>\n",
       "      <td>0</td>\n",
       "      <td>1</td>\n",
       "      <td>113509</td>\n",
       "      <td>61.9792</td>\n",
       "      <td>B30</td>\n",
       "      <td>C</td>\n",
       "    </tr>\n",
       "    <tr>\n",
       "      <th>351</th>\n",
       "      <td>352</td>\n",
       "      <td>0</td>\n",
       "      <td>1</td>\n",
       "      <td>Williams-Lambert, Mr. Fletcher Fellows</td>\n",
       "      <td>male</td>\n",
       "      <td>NaN</td>\n",
       "      <td>0</td>\n",
       "      <td>0</td>\n",
       "      <td>113510</td>\n",
       "      <td>35.0000</td>\n",
       "      <td>C128</td>\n",
       "      <td>S</td>\n",
       "    </tr>\n",
       "    <tr>\n",
       "      <th>252</th>\n",
       "      <td>253</td>\n",
       "      <td>0</td>\n",
       "      <td>1</td>\n",
       "      <td>Stead, Mr. William Thomas</td>\n",
       "      <td>male</td>\n",
       "      <td>62.00</td>\n",
       "      <td>0</td>\n",
       "      <td>0</td>\n",
       "      <td>113514</td>\n",
       "      <td>26.5500</td>\n",
       "      <td>C87</td>\n",
       "      <td>S</td>\n",
       "    </tr>\n",
       "    <tr>\n",
       "      <th>61</th>\n",
       "      <td>62</td>\n",
       "      <td>1</td>\n",
       "      <td>1</td>\n",
       "      <td>Icard, Miss. Amelie</td>\n",
       "      <td>female</td>\n",
       "      <td>38.00</td>\n",
       "      <td>0</td>\n",
       "      <td>0</td>\n",
       "      <td>113572</td>\n",
       "      <td>80.0000</td>\n",
       "      <td>B28</td>\n",
       "      <td>NaN</td>\n",
       "    </tr>\n",
       "    <tr>\n",
       "      <th>829</th>\n",
       "      <td>830</td>\n",
       "      <td>1</td>\n",
       "      <td>1</td>\n",
       "      <td>Stone, Mrs. George Nelson (Martha Evelyn)</td>\n",
       "      <td>female</td>\n",
       "      <td>62.00</td>\n",
       "      <td>0</td>\n",
       "      <td>0</td>\n",
       "      <td>113572</td>\n",
       "      <td>80.0000</td>\n",
       "      <td>B28</td>\n",
       "      <td>NaN</td>\n",
       "    </tr>\n",
       "    <tr>\n",
       "      <th>763</th>\n",
       "      <td>764</td>\n",
       "      <td>1</td>\n",
       "      <td>1</td>\n",
       "      <td>Carter, Mrs. William Ernest (Lucile Polk)</td>\n",
       "      <td>female</td>\n",
       "      <td>36.00</td>\n",
       "      <td>1</td>\n",
       "      <td>2</td>\n",
       "      <td>113760</td>\n",
       "      <td>120.0000</td>\n",
       "      <td>B96 B98</td>\n",
       "      <td>S</td>\n",
       "    </tr>\n",
       "    <tr>\n",
       "      <th>435</th>\n",
       "      <td>436</td>\n",
       "      <td>1</td>\n",
       "      <td>1</td>\n",
       "      <td>Carter, Miss. Lucile Polk</td>\n",
       "      <td>female</td>\n",
       "      <td>14.00</td>\n",
       "      <td>1</td>\n",
       "      <td>2</td>\n",
       "      <td>113760</td>\n",
       "      <td>120.0000</td>\n",
       "      <td>B96 B98</td>\n",
       "      <td>S</td>\n",
       "    </tr>\n",
       "    <tr>\n",
       "      <th>802</th>\n",
       "      <td>803</td>\n",
       "      <td>1</td>\n",
       "      <td>1</td>\n",
       "      <td>Carter, Master. William Thornton II</td>\n",
       "      <td>male</td>\n",
       "      <td>11.00</td>\n",
       "      <td>1</td>\n",
       "      <td>2</td>\n",
       "      <td>113760</td>\n",
       "      <td>120.0000</td>\n",
       "      <td>B96 B98</td>\n",
       "      <td>S</td>\n",
       "    </tr>\n",
       "    <tr>\n",
       "      <th>390</th>\n",
       "      <td>391</td>\n",
       "      <td>1</td>\n",
       "      <td>1</td>\n",
       "      <td>Carter, Mr. William Ernest</td>\n",
       "      <td>male</td>\n",
       "      <td>36.00</td>\n",
       "      <td>1</td>\n",
       "      <td>2</td>\n",
       "      <td>113760</td>\n",
       "      <td>120.0000</td>\n",
       "      <td>B96 B98</td>\n",
       "      <td>S</td>\n",
       "    </tr>\n",
       "    <tr>\n",
       "      <th>185</th>\n",
       "      <td>186</td>\n",
       "      <td>0</td>\n",
       "      <td>1</td>\n",
       "      <td>Rood, Mr. Hugh Roscoe</td>\n",
       "      <td>male</td>\n",
       "      <td>NaN</td>\n",
       "      <td>0</td>\n",
       "      <td>0</td>\n",
       "      <td>113767</td>\n",
       "      <td>50.0000</td>\n",
       "      <td>A32</td>\n",
       "      <td>S</td>\n",
       "    </tr>\n",
       "    <tr>\n",
       "      <th>748</th>\n",
       "      <td>749</td>\n",
       "      <td>0</td>\n",
       "      <td>1</td>\n",
       "      <td>Marvin, Mr. Daniel Warner</td>\n",
       "      <td>male</td>\n",
       "      <td>19.00</td>\n",
       "      <td>1</td>\n",
       "      <td>0</td>\n",
       "      <td>113773</td>\n",
       "      <td>53.1000</td>\n",
       "      <td>D30</td>\n",
       "      <td>S</td>\n",
       "    </tr>\n",
       "    <tr>\n",
       "      <th>336</th>\n",
       "      <td>337</td>\n",
       "      <td>0</td>\n",
       "      <td>1</td>\n",
       "      <td>Pears, Mr. Thomas Clinton</td>\n",
       "      <td>male</td>\n",
       "      <td>29.00</td>\n",
       "      <td>1</td>\n",
       "      <td>0</td>\n",
       "      <td>113776</td>\n",
       "      <td>66.6000</td>\n",
       "      <td>C2</td>\n",
       "      <td>S</td>\n",
       "    </tr>\n",
       "    <tr>\n",
       "      <th>151</th>\n",
       "      <td>152</td>\n",
       "      <td>1</td>\n",
       "      <td>1</td>\n",
       "      <td>Pears, Mrs. Thomas (Edith Wearne)</td>\n",
       "      <td>female</td>\n",
       "      <td>22.00</td>\n",
       "      <td>1</td>\n",
       "      <td>0</td>\n",
       "      <td>113776</td>\n",
       "      <td>66.6000</td>\n",
       "      <td>C2</td>\n",
       "      <td>S</td>\n",
       "    </tr>\n",
       "    <tr>\n",
       "      <th>498</th>\n",
       "      <td>499</td>\n",
       "      <td>0</td>\n",
       "      <td>1</td>\n",
       "      <td>Allison, Mrs. Hudson J C (Bessie Waldo Daniels)</td>\n",
       "      <td>female</td>\n",
       "      <td>25.00</td>\n",
       "      <td>1</td>\n",
       "      <td>2</td>\n",
       "      <td>113781</td>\n",
       "      <td>151.5500</td>\n",
       "      <td>C22 C26</td>\n",
       "      <td>S</td>\n",
       "    </tr>\n",
       "    <tr>\n",
       "      <th>708</th>\n",
       "      <td>709</td>\n",
       "      <td>1</td>\n",
       "      <td>1</td>\n",
       "      <td>Cleaver, Miss. Alice</td>\n",
       "      <td>female</td>\n",
       "      <td>22.00</td>\n",
       "      <td>0</td>\n",
       "      <td>0</td>\n",
       "      <td>113781</td>\n",
       "      <td>151.5500</td>\n",
       "      <td>NaN</td>\n",
       "      <td>S</td>\n",
       "    </tr>\n",
       "    <tr>\n",
       "      <th>297</th>\n",
       "      <td>298</td>\n",
       "      <td>0</td>\n",
       "      <td>1</td>\n",
       "      <td>Allison, Miss. Helen Loraine</td>\n",
       "      <td>female</td>\n",
       "      <td>2.00</td>\n",
       "      <td>1</td>\n",
       "      <td>2</td>\n",
       "      <td>113781</td>\n",
       "      <td>151.5500</td>\n",
       "      <td>C22 C26</td>\n",
       "      <td>S</td>\n",
       "    </tr>\n",
       "    <tr>\n",
       "      <th>305</th>\n",
       "      <td>306</td>\n",
       "      <td>1</td>\n",
       "      <td>1</td>\n",
       "      <td>Allison, Master. Hudson Trevor</td>\n",
       "      <td>male</td>\n",
       "      <td>0.92</td>\n",
       "      <td>1</td>\n",
       "      <td>2</td>\n",
       "      <td>113781</td>\n",
       "      <td>151.5500</td>\n",
       "      <td>C22 C26</td>\n",
       "      <td>S</td>\n",
       "    </tr>\n",
       "    <tr>\n",
       "      <th>11</th>\n",
       "      <td>12</td>\n",
       "      <td>1</td>\n",
       "      <td>1</td>\n",
       "      <td>Bonnell, Miss. Elizabeth</td>\n",
       "      <td>female</td>\n",
       "      <td>58.00</td>\n",
       "      <td>0</td>\n",
       "      <td>0</td>\n",
       "      <td>113783</td>\n",
       "      <td>26.5500</td>\n",
       "      <td>C103</td>\n",
       "      <td>S</td>\n",
       "    </tr>\n",
       "    <tr>\n",
       "      <th>339</th>\n",
       "      <td>340</td>\n",
       "      <td>0</td>\n",
       "      <td>1</td>\n",
       "      <td>Blackwell, Mr. Stephen Weart</td>\n",
       "      <td>male</td>\n",
       "      <td>45.00</td>\n",
       "      <td>0</td>\n",
       "      <td>0</td>\n",
       "      <td>113784</td>\n",
       "      <td>35.5000</td>\n",
       "      <td>T</td>\n",
       "      <td>S</td>\n",
       "    </tr>\n",
       "    <tr>\n",
       "      <th>449</th>\n",
       "      <td>450</td>\n",
       "      <td>1</td>\n",
       "      <td>1</td>\n",
       "      <td>Peuchen, Major. Arthur Godfrey</td>\n",
       "      <td>male</td>\n",
       "      <td>52.00</td>\n",
       "      <td>0</td>\n",
       "      <td>0</td>\n",
       "      <td>113786</td>\n",
       "      <td>30.5000</td>\n",
       "      <td>C104</td>\n",
       "      <td>S</td>\n",
       "    </tr>\n",
       "    <tr>\n",
       "      <th>492</th>\n",
       "      <td>493</td>\n",
       "      <td>0</td>\n",
       "      <td>1</td>\n",
       "      <td>Molson, Mr. Harry Markland</td>\n",
       "      <td>male</td>\n",
       "      <td>55.00</td>\n",
       "      <td>0</td>\n",
       "      <td>0</td>\n",
       "      <td>113787</td>\n",
       "      <td>30.5000</td>\n",
       "      <td>C30</td>\n",
       "      <td>S</td>\n",
       "    </tr>\n",
       "    <tr>\n",
       "      <th>23</th>\n",
       "      <td>24</td>\n",
       "      <td>1</td>\n",
       "      <td>1</td>\n",
       "      <td>Sloper, Mr. William Thompson</td>\n",
       "      <td>male</td>\n",
       "      <td>28.00</td>\n",
       "      <td>0</td>\n",
       "      <td>0</td>\n",
       "      <td>113788</td>\n",
       "      <td>35.5000</td>\n",
       "      <td>A6</td>\n",
       "      <td>S</td>\n",
       "    </tr>\n",
       "    <tr>\n",
       "      <th>383</th>\n",
       "      <td>384</td>\n",
       "      <td>1</td>\n",
       "      <td>1</td>\n",
       "      <td>Holverson, Mrs. Alexander Oskar (Mary Aline To...</td>\n",
       "      <td>female</td>\n",
       "      <td>35.00</td>\n",
       "      <td>1</td>\n",
       "      <td>0</td>\n",
       "      <td>113789</td>\n",
       "      <td>52.0000</td>\n",
       "      <td>NaN</td>\n",
       "      <td>S</td>\n",
       "    </tr>\n",
       "    <tr>\n",
       "      <th>35</th>\n",
       "      <td>36</td>\n",
       "      <td>0</td>\n",
       "      <td>1</td>\n",
       "      <td>Holverson, Mr. Alexander Oskar</td>\n",
       "      <td>male</td>\n",
       "      <td>42.00</td>\n",
       "      <td>1</td>\n",
       "      <td>0</td>\n",
       "      <td>113789</td>\n",
       "      <td>52.0000</td>\n",
       "      <td>NaN</td>\n",
       "      <td>S</td>\n",
       "    </tr>\n",
       "    <tr>\n",
       "      <th>467</th>\n",
       "      <td>468</td>\n",
       "      <td>0</td>\n",
       "      <td>1</td>\n",
       "      <td>Smart, Mr. John Montgomery</td>\n",
       "      <td>male</td>\n",
       "      <td>56.00</td>\n",
       "      <td>0</td>\n",
       "      <td>0</td>\n",
       "      <td>113792</td>\n",
       "      <td>26.5500</td>\n",
       "      <td>NaN</td>\n",
       "      <td>S</td>\n",
       "    </tr>\n",
       "    <tr>\n",
       "      <th>447</th>\n",
       "      <td>448</td>\n",
       "      <td>1</td>\n",
       "      <td>1</td>\n",
       "      <td>Seward, Mr. Frederic Kimber</td>\n",
       "      <td>male</td>\n",
       "      <td>34.00</td>\n",
       "      <td>0</td>\n",
       "      <td>0</td>\n",
       "      <td>113794</td>\n",
       "      <td>26.5500</td>\n",
       "      <td>NaN</td>\n",
       "      <td>S</td>\n",
       "    </tr>\n",
       "    <tr>\n",
       "      <th>602</th>\n",
       "      <td>603</td>\n",
       "      <td>0</td>\n",
       "      <td>1</td>\n",
       "      <td>Harrington, Mr. Charles H</td>\n",
       "      <td>male</td>\n",
       "      <td>NaN</td>\n",
       "      <td>0</td>\n",
       "      <td>0</td>\n",
       "      <td>113796</td>\n",
       "      <td>42.4000</td>\n",
       "      <td>NaN</td>\n",
       "      <td>S</td>\n",
       "    </tr>\n",
       "    <tr>\n",
       "      <th>270</th>\n",
       "      <td>271</td>\n",
       "      <td>0</td>\n",
       "      <td>1</td>\n",
       "      <td>Cairns, Mr. Alexander</td>\n",
       "      <td>male</td>\n",
       "      <td>NaN</td>\n",
       "      <td>0</td>\n",
       "      <td>0</td>\n",
       "      <td>113798</td>\n",
       "      <td>31.0000</td>\n",
       "      <td>NaN</td>\n",
       "      <td>S</td>\n",
       "    </tr>\n",
       "    <tr>\n",
       "      <th>842</th>\n",
       "      <td>843</td>\n",
       "      <td>1</td>\n",
       "      <td>1</td>\n",
       "      <td>Serepeca, Miss. Augusta</td>\n",
       "      <td>female</td>\n",
       "      <td>30.00</td>\n",
       "      <td>0</td>\n",
       "      <td>0</td>\n",
       "      <td>113798</td>\n",
       "      <td>31.0000</td>\n",
       "      <td>NaN</td>\n",
       "      <td>C</td>\n",
       "    </tr>\n",
       "    <tr>\n",
       "      <th>694</th>\n",
       "      <td>695</td>\n",
       "      <td>0</td>\n",
       "      <td>1</td>\n",
       "      <td>Weir, Col. John</td>\n",
       "      <td>male</td>\n",
       "      <td>60.00</td>\n",
       "      <td>0</td>\n",
       "      <td>0</td>\n",
       "      <td>113800</td>\n",
       "      <td>26.5500</td>\n",
       "      <td>NaN</td>\n",
       "      <td>S</td>\n",
       "    </tr>\n",
       "    <tr>\n",
       "      <th>137</th>\n",
       "      <td>138</td>\n",
       "      <td>0</td>\n",
       "      <td>1</td>\n",
       "      <td>Futrelle, Mr. Jacques Heath</td>\n",
       "      <td>male</td>\n",
       "      <td>37.00</td>\n",
       "      <td>1</td>\n",
       "      <td>0</td>\n",
       "      <td>113803</td>\n",
       "      <td>53.1000</td>\n",
       "      <td>C123</td>\n",
       "      <td>S</td>\n",
       "    </tr>\n",
       "    <tr>\n",
       "      <th>3</th>\n",
       "      <td>4</td>\n",
       "      <td>1</td>\n",
       "      <td>1</td>\n",
       "      <td>Futrelle, Mrs. Jacques Heath (Lily May Peel)</td>\n",
       "      <td>female</td>\n",
       "      <td>35.00</td>\n",
       "      <td>1</td>\n",
       "      <td>0</td>\n",
       "      <td>113803</td>\n",
       "      <td>53.1000</td>\n",
       "      <td>C123</td>\n",
       "      <td>S</td>\n",
       "    </tr>\n",
       "    <tr>\n",
       "      <th>607</th>\n",
       "      <td>608</td>\n",
       "      <td>1</td>\n",
       "      <td>1</td>\n",
       "      <td>Daniel, Mr. Robert Williams</td>\n",
       "      <td>male</td>\n",
       "      <td>27.00</td>\n",
       "      <td>0</td>\n",
       "      <td>0</td>\n",
       "      <td>113804</td>\n",
       "      <td>30.5000</td>\n",
       "      <td>NaN</td>\n",
       "      <td>S</td>\n",
       "    </tr>\n",
       "    <tr>\n",
       "      <th>724</th>\n",
       "      <td>725</td>\n",
       "      <td>1</td>\n",
       "      <td>1</td>\n",
       "      <td>Chambers, Mr. Norman Campbell</td>\n",
       "      <td>male</td>\n",
       "      <td>27.00</td>\n",
       "      <td>1</td>\n",
       "      <td>0</td>\n",
       "      <td>113806</td>\n",
       "      <td>53.1000</td>\n",
       "      <td>E8</td>\n",
       "      <td>S</td>\n",
       "    </tr>\n",
       "    <tr>\n",
       "      <th>809</th>\n",
       "      <td>810</td>\n",
       "      <td>1</td>\n",
       "      <td>1</td>\n",
       "      <td>Chambers, Mrs. Norman Campbell (Bertha Griggs)</td>\n",
       "      <td>female</td>\n",
       "      <td>33.00</td>\n",
       "      <td>1</td>\n",
       "      <td>0</td>\n",
       "      <td>113806</td>\n",
       "      <td>53.1000</td>\n",
       "      <td>E8</td>\n",
       "      <td>S</td>\n",
       "    </tr>\n",
       "    <tr>\n",
       "      <th>555</th>\n",
       "      <td>556</td>\n",
       "      <td>0</td>\n",
       "      <td>1</td>\n",
       "      <td>Wright, Mr. George</td>\n",
       "      <td>male</td>\n",
       "      <td>62.00</td>\n",
       "      <td>0</td>\n",
       "      <td>0</td>\n",
       "      <td>113807</td>\n",
       "      <td>26.5500</td>\n",
       "      <td>NaN</td>\n",
       "      <td>S</td>\n",
       "    </tr>\n",
       "  </tbody>\n",
       "</table>\n",
       "</div>"
      ],
      "text/plain": [
       "     PassengerId  Survived  Pclass  \\\n",
       "711          712         0       1   \n",
       "331          332         0       1   \n",
       "536          537         0       1   \n",
       "452          453         0       1   \n",
       "857          858         1       1   \n",
       "284          285         0       1   \n",
       "83            84         0       1   \n",
       "782          783         0       1   \n",
       "377          378         0       1   \n",
       "166          167         1       1   \n",
       "356          357         1       1   \n",
       "54            55         0       1   \n",
       "351          352         0       1   \n",
       "252          253         0       1   \n",
       "61            62         1       1   \n",
       "829          830         1       1   \n",
       "763          764         1       1   \n",
       "435          436         1       1   \n",
       "802          803         1       1   \n",
       "390          391         1       1   \n",
       "185          186         0       1   \n",
       "748          749         0       1   \n",
       "336          337         0       1   \n",
       "151          152         1       1   \n",
       "498          499         0       1   \n",
       "708          709         1       1   \n",
       "297          298         0       1   \n",
       "305          306         1       1   \n",
       "11            12         1       1   \n",
       "339          340         0       1   \n",
       "449          450         1       1   \n",
       "492          493         0       1   \n",
       "23            24         1       1   \n",
       "383          384         1       1   \n",
       "35            36         0       1   \n",
       "467          468         0       1   \n",
       "447          448         1       1   \n",
       "602          603         0       1   \n",
       "270          271         0       1   \n",
       "842          843         1       1   \n",
       "694          695         0       1   \n",
       "137          138         0       1   \n",
       "3              4         1       1   \n",
       "607          608         1       1   \n",
       "724          725         1       1   \n",
       "809          810         1       1   \n",
       "555          556         0       1   \n",
       "\n",
       "                                                  Name     Sex    Age  SibSp  \\\n",
       "711                                 Klaber, Mr. Herman    male    NaN      0   \n",
       "331                                Partner, Mr. Austen    male  45.50      0   \n",
       "536                  Butt, Major. Archibald Willingham    male  45.00      0   \n",
       "452                    Foreman, Mr. Benjamin Laventall    male  30.00      0   \n",
       "857                             Daly, Mr. Peter Denis     male  51.00      0   \n",
       "284                         Smith, Mr. Richard William    male    NaN      0   \n",
       "83                             Carrau, Mr. Francisco M    male  28.00      0   \n",
       "782                             Long, Mr. Milton Clyde    male  29.00      0   \n",
       "377                          Widener, Mr. Harry Elkins    male  27.00      0   \n",
       "166             Chibnall, Mrs. (Edith Martha Bowerman)  female    NaN      0   \n",
       "356                        Bowerman, Miss. Elsie Edith  female  22.00      0   \n",
       "54                      Ostby, Mr. Engelhart Cornelius    male  65.00      0   \n",
       "351             Williams-Lambert, Mr. Fletcher Fellows    male    NaN      0   \n",
       "252                          Stead, Mr. William Thomas    male  62.00      0   \n",
       "61                                 Icard, Miss. Amelie  female  38.00      0   \n",
       "829          Stone, Mrs. George Nelson (Martha Evelyn)  female  62.00      0   \n",
       "763          Carter, Mrs. William Ernest (Lucile Polk)  female  36.00      1   \n",
       "435                          Carter, Miss. Lucile Polk  female  14.00      1   \n",
       "802                Carter, Master. William Thornton II    male  11.00      1   \n",
       "390                         Carter, Mr. William Ernest    male  36.00      1   \n",
       "185                              Rood, Mr. Hugh Roscoe    male    NaN      0   \n",
       "748                          Marvin, Mr. Daniel Warner    male  19.00      1   \n",
       "336                          Pears, Mr. Thomas Clinton    male  29.00      1   \n",
       "151                  Pears, Mrs. Thomas (Edith Wearne)  female  22.00      1   \n",
       "498    Allison, Mrs. Hudson J C (Bessie Waldo Daniels)  female  25.00      1   \n",
       "708                               Cleaver, Miss. Alice  female  22.00      0   \n",
       "297                       Allison, Miss. Helen Loraine  female   2.00      1   \n",
       "305                     Allison, Master. Hudson Trevor    male   0.92      1   \n",
       "11                            Bonnell, Miss. Elizabeth  female  58.00      0   \n",
       "339                       Blackwell, Mr. Stephen Weart    male  45.00      0   \n",
       "449                     Peuchen, Major. Arthur Godfrey    male  52.00      0   \n",
       "492                         Molson, Mr. Harry Markland    male  55.00      0   \n",
       "23                        Sloper, Mr. William Thompson    male  28.00      0   \n",
       "383  Holverson, Mrs. Alexander Oskar (Mary Aline To...  female  35.00      1   \n",
       "35                      Holverson, Mr. Alexander Oskar    male  42.00      1   \n",
       "467                         Smart, Mr. John Montgomery    male  56.00      0   \n",
       "447                        Seward, Mr. Frederic Kimber    male  34.00      0   \n",
       "602                          Harrington, Mr. Charles H    male    NaN      0   \n",
       "270                              Cairns, Mr. Alexander    male    NaN      0   \n",
       "842                            Serepeca, Miss. Augusta  female  30.00      0   \n",
       "694                                    Weir, Col. John    male  60.00      0   \n",
       "137                        Futrelle, Mr. Jacques Heath    male  37.00      1   \n",
       "3         Futrelle, Mrs. Jacques Heath (Lily May Peel)  female  35.00      1   \n",
       "607                        Daniel, Mr. Robert Williams    male  27.00      0   \n",
       "724                      Chambers, Mr. Norman Campbell    male  27.00      1   \n",
       "809     Chambers, Mrs. Norman Campbell (Bertha Griggs)  female  33.00      1   \n",
       "555                                 Wright, Mr. George    male  62.00      0   \n",
       "\n",
       "     Parch  Ticket      Fare    Cabin Embarked  \n",
       "711      0  113028   26.5500     C124        S  \n",
       "331      0  113043   28.5000     C124        S  \n",
       "536      0  113050   26.5500      B38        S  \n",
       "452      0  113051   27.7500     C111        C  \n",
       "857      0  113055   26.5500      E17        S  \n",
       "284      0  113056   26.0000      A19        S  \n",
       "83       0  113059   47.1000      NaN        S  \n",
       "782      0  113501   30.0000       D6        S  \n",
       "377      2  113503  211.5000      C82        C  \n",
       "166      1  113505   55.0000      E33        S  \n",
       "356      1  113505   55.0000      E33        S  \n",
       "54       1  113509   61.9792      B30        C  \n",
       "351      0  113510   35.0000     C128        S  \n",
       "252      0  113514   26.5500      C87        S  \n",
       "61       0  113572   80.0000      B28      NaN  \n",
       "829      0  113572   80.0000      B28      NaN  \n",
       "763      2  113760  120.0000  B96 B98        S  \n",
       "435      2  113760  120.0000  B96 B98        S  \n",
       "802      2  113760  120.0000  B96 B98        S  \n",
       "390      2  113760  120.0000  B96 B98        S  \n",
       "185      0  113767   50.0000      A32        S  \n",
       "748      0  113773   53.1000      D30        S  \n",
       "336      0  113776   66.6000       C2        S  \n",
       "151      0  113776   66.6000       C2        S  \n",
       "498      2  113781  151.5500  C22 C26        S  \n",
       "708      0  113781  151.5500      NaN        S  \n",
       "297      2  113781  151.5500  C22 C26        S  \n",
       "305      2  113781  151.5500  C22 C26        S  \n",
       "11       0  113783   26.5500     C103        S  \n",
       "339      0  113784   35.5000        T        S  \n",
       "449      0  113786   30.5000     C104        S  \n",
       "492      0  113787   30.5000      C30        S  \n",
       "23       0  113788   35.5000       A6        S  \n",
       "383      0  113789   52.0000      NaN        S  \n",
       "35       0  113789   52.0000      NaN        S  \n",
       "467      0  113792   26.5500      NaN        S  \n",
       "447      0  113794   26.5500      NaN        S  \n",
       "602      0  113796   42.4000      NaN        S  \n",
       "270      0  113798   31.0000      NaN        S  \n",
       "842      0  113798   31.0000      NaN        C  \n",
       "694      0  113800   26.5500      NaN        S  \n",
       "137      0  113803   53.1000     C123        S  \n",
       "3        0  113803   53.1000     C123        S  \n",
       "607      0  113804   30.5000      NaN        S  \n",
       "724      0  113806   53.1000       E8        S  \n",
       "809      0  113806   53.1000       E8        S  \n",
       "555      0  113807   26.5500      NaN        S  "
      ]
     },
     "execution_count": 16,
     "metadata": {},
     "output_type": "execute_result"
    }
   ],
   "source": [
    "fulldata[fulldata[\"Ticket\"].isin(map(str, range(113000,114000)))].sort_values(by=\"Ticket\")"
   ]
  },
  {
   "cell_type": "code",
   "execution_count": 17,
   "metadata": {
    "collapsed": false
   },
   "outputs": [
    {
     "data": {
      "text/plain": [
       "<matplotlib.text.Text at 0xd880828>"
      ]
     },
     "execution_count": 17,
     "metadata": {},
     "output_type": "execute_result"
    },
    {
     "data": {
      "image/png": "[encoded data removed]",
      "text/plain": [
       "<matplotlib.figure.Figure at 0xcbdcf60>"
      ]
     },
     "metadata": {},
     "output_type": "display_data"
    }
   ],
   "source": [
    "ax = fulldata.boxplot(column=\"Fare\", by=[\"Pclass\", \"Embarked\"])\n",
    "ax.set_ylim(0,180)\n",
    "ax.set_xticklabels([\"1st class, Cherbourg\", \"1st class, Queenstown\", \"1st class, Southampton\", \"2nd class, Cherbourg\", \"2nd class, Queenstown\", \"2nd class, Southampton\", \"3rd class, Cherbourg\", \"3rd class, Queenstown\", \"3rd class, Southampton\"],\\\n",
    "                  rotation=90)\n",
    "ax.set_xlabel(\"Passenger class and harbour of embarking\")\n",
    "ax.set_ylabel(\"Passenger fare\")\n",
    "ax.set_title(\"Passenger fare for passenger classes and harbour of embarking\")\n",
    "#ax.set_subtitle()\n",
    "plt.suptitle(\"\")\n"
   ]
  },
  {
   "cell_type": "markdown",
   "metadata": {},
   "source": [
    "Unfortunatly, the ticket number and also the passenger fare do not allow to extrapolate the harbour of embarking for the two passengers. The distrubtion of fares overlap for all harbours and the ticket number does not imply one of the three possible harbours. I will therfore leave the harbour of embarking missing for the two passengers and ignore them when calculating statistics for the according variable. Since only two of 891 passengers are affected, the impact will be small."
   ]
  },
  {
   "cell_type": "markdown",
   "metadata": {},
   "source": [
    "## Family names"
   ]
  },
  {
   "cell_type": "code",
   "execution_count": 18,
   "metadata": {
    "collapsed": false
   },
   "outputs": [
    {
     "name": "stdout",
     "output_type": "stream",
     "text": [
      "0       Braund\n",
      "1      Cumings\n",
      "2    Heikkinen\n",
      "3     Futrelle\n",
      "4        Allen\n",
      "Name: Surname, dtype: object\n",
      "0       Mr\n",
      "1      Mrs\n",
      "2     Miss\n",
      "3      Mrs\n",
      "4       Mr\n",
      "Name: Title, dtype: object\n",
      "           PassengerId  Survived  Pclass  Name  Sex  Age  SibSp  Parch  \\\n",
      "Surname                                                                  \n",
      "Andersson            9         9       9     9    9    9      9      9   \n",
      "Sage                 7         7       7     7    7    0      7      7   \n",
      "Skoog                6         6       6     6    6    6      6      6   \n",
      "Carter               6         6       6     6    6    6      6      6   \n",
      "Goodwin              6         6       6     6    6    6      6      6   \n",
      "\n",
      "           Ticket  Fare  Cabin  Embarked  Title  \n",
      "Surname                                          \n",
      "Andersson       9     9      0         9      9  \n",
      "Sage            7     7      0         7      7  \n",
      "Skoog           6     6      0         6      6  \n",
      "Carter          6     6      4         6      6  \n",
      "Goodwin         6     6      0         6      6  \n"
     ]
    },
    {
     "data": {
      "image/png": "[encoded data removed]",
      "text/plain": [
       "<matplotlib.figure.Figure at 0xdde0cc0>"
      ]
     },
     "metadata": {},
     "output_type": "display_data"
    }
   ],
   "source": [
    "data_wrangled = fulldata\n",
    "data_wrangled[\"Surname\"] = data_wrangled[\"Name\"].apply(lambda name: name.split(\",\")[0])\n",
    "print data_wrangled[\"Surname\"].head()\n",
    "data_wrangled[\"Title\"] = data_wrangled[\"Name\"].apply(lambda name: name.split(\",\")[1].split(\".\")[0])\n",
    "print data_wrangled[\"Title\"].head()\n",
    "\n",
    "ax = data_wrangled.groupby(\"Title\").count()[\"PassengerId\"].plot.bar()\n",
    "ax.set_xlabel(\"Title\")\n",
    "ax.set_ylabel(\"Number of passengers\")\n",
    "ax.set_title(\"Passenger titles\")\n",
    "\n",
    "print data_wrangled.groupby(\"Surname\").count().sort_values(\"PassengerId\", ascending=False).head()"
   ]
  },
  {
   "cell_type": "markdown",
   "metadata": {},
   "source": [
    "As the bar plot for the titles do not contain strange titles it seems that the extraction of titles from the fullname worked. Surnames and titles could now be used for analysis."
   ]
  },
  {
   "cell_type": "markdown",
   "metadata": {},
   "source": [
    "## Calculate family size"
   ]
  },
  {
   "cell_type": "code",
   "execution_count": 19,
   "metadata": {
    "collapsed": false
   },
   "outputs": [
    {
     "data": {
      "text/html": [
       "<div>\n",
       "<table border=\"1\" class=\"dataframe\">\n",
       "  <thead>\n",
       "    <tr style=\"text-align: right;\">\n",
       "      <th></th>\n",
       "      <th>PassengerId</th>\n",
       "      <th>Survived</th>\n",
       "      <th>Pclass</th>\n",
       "      <th>Name</th>\n",
       "      <th>Sex</th>\n",
       "      <th>Age</th>\n",
       "      <th>SibSp</th>\n",
       "      <th>Parch</th>\n",
       "      <th>Ticket</th>\n",
       "      <th>Fare</th>\n",
       "      <th>Cabin</th>\n",
       "      <th>Embarked</th>\n",
       "      <th>Surname</th>\n",
       "      <th>Title</th>\n",
       "      <th>Familysize</th>\n",
       "    </tr>\n",
       "  </thead>\n",
       "  <tbody>\n",
       "    <tr>\n",
       "      <th>159</th>\n",
       "      <td>160</td>\n",
       "      <td>0</td>\n",
       "      <td>3</td>\n",
       "      <td>Sage, Master. Thomas Henry</td>\n",
       "      <td>male</td>\n",
       "      <td>NaN</td>\n",
       "      <td>8</td>\n",
       "      <td>2</td>\n",
       "      <td>CA. 2343</td>\n",
       "      <td>69.55</td>\n",
       "      <td>NaN</td>\n",
       "      <td>S</td>\n",
       "      <td>Sage</td>\n",
       "      <td>Master</td>\n",
       "      <td>11</td>\n",
       "    </tr>\n",
       "    <tr>\n",
       "      <th>180</th>\n",
       "      <td>181</td>\n",
       "      <td>0</td>\n",
       "      <td>3</td>\n",
       "      <td>Sage, Miss. Constance Gladys</td>\n",
       "      <td>female</td>\n",
       "      <td>NaN</td>\n",
       "      <td>8</td>\n",
       "      <td>2</td>\n",
       "      <td>CA. 2343</td>\n",
       "      <td>69.55</td>\n",
       "      <td>NaN</td>\n",
       "      <td>S</td>\n",
       "      <td>Sage</td>\n",
       "      <td>Miss</td>\n",
       "      <td>11</td>\n",
       "    </tr>\n",
       "    <tr>\n",
       "      <th>201</th>\n",
       "      <td>202</td>\n",
       "      <td>0</td>\n",
       "      <td>3</td>\n",
       "      <td>Sage, Mr. Frederick</td>\n",
       "      <td>male</td>\n",
       "      <td>NaN</td>\n",
       "      <td>8</td>\n",
       "      <td>2</td>\n",
       "      <td>CA. 2343</td>\n",
       "      <td>69.55</td>\n",
       "      <td>NaN</td>\n",
       "      <td>S</td>\n",
       "      <td>Sage</td>\n",
       "      <td>Mr</td>\n",
       "      <td>11</td>\n",
       "    </tr>\n",
       "    <tr>\n",
       "      <th>324</th>\n",
       "      <td>325</td>\n",
       "      <td>0</td>\n",
       "      <td>3</td>\n",
       "      <td>Sage, Mr. George John Jr</td>\n",
       "      <td>male</td>\n",
       "      <td>NaN</td>\n",
       "      <td>8</td>\n",
       "      <td>2</td>\n",
       "      <td>CA. 2343</td>\n",
       "      <td>69.55</td>\n",
       "      <td>NaN</td>\n",
       "      <td>S</td>\n",
       "      <td>Sage</td>\n",
       "      <td>Mr</td>\n",
       "      <td>11</td>\n",
       "    </tr>\n",
       "    <tr>\n",
       "      <th>792</th>\n",
       "      <td>793</td>\n",
       "      <td>0</td>\n",
       "      <td>3</td>\n",
       "      <td>Sage, Miss. Stella Anna</td>\n",
       "      <td>female</td>\n",
       "      <td>NaN</td>\n",
       "      <td>8</td>\n",
       "      <td>2</td>\n",
       "      <td>CA. 2343</td>\n",
       "      <td>69.55</td>\n",
       "      <td>NaN</td>\n",
       "      <td>S</td>\n",
       "      <td>Sage</td>\n",
       "      <td>Miss</td>\n",
       "      <td>11</td>\n",
       "    </tr>\n",
       "  </tbody>\n",
       "</table>\n",
       "</div>"
      ],
      "text/plain": [
       "     PassengerId  Survived  Pclass                          Name     Sex  Age  \\\n",
       "159          160         0       3    Sage, Master. Thomas Henry    male  NaN   \n",
       "180          181         0       3  Sage, Miss. Constance Gladys  female  NaN   \n",
       "201          202         0       3           Sage, Mr. Frederick    male  NaN   \n",
       "324          325         0       3      Sage, Mr. George John Jr    male  NaN   \n",
       "792          793         0       3       Sage, Miss. Stella Anna  female  NaN   \n",
       "\n",
       "     SibSp  Parch    Ticket   Fare Cabin Embarked Surname    Title  Familysize  \n",
       "159      8      2  CA. 2343  69.55   NaN        S    Sage   Master          11  \n",
       "180      8      2  CA. 2343  69.55   NaN        S    Sage     Miss          11  \n",
       "201      8      2  CA. 2343  69.55   NaN        S    Sage       Mr          11  \n",
       "324      8      2  CA. 2343  69.55   NaN        S    Sage       Mr          11  \n",
       "792      8      2  CA. 2343  69.55   NaN        S    Sage     Miss          11  "
      ]
     },
     "execution_count": 19,
     "metadata": {},
     "output_type": "execute_result"
    },
    {
     "data": {
      "image/png": "[encoded data removed]",
      "text/plain": [
       "<matplotlib.figure.Figure at 0xd538a20>"
      ]
     },
     "metadata": {},
     "output_type": "display_data"
    }
   ],
   "source": [
    "# Add number of parents, children, siblings and spouse and add one to account for the passenger himself\n",
    "data_wrangled[\"Familysize\"] = data_wrangled[\"Parch\"] + data_wrangled[\"SibSp\"] + 1\n",
    "\n",
    "# investigate the new column\n",
    "ax = data_wrangled.groupby(\"Familysize\").count()[\"PassengerId\"].plot.bar()\n",
    "ax.set_ylabel(\"Number of passengers\")\n",
    "ax.set_xlabel(\"Size of family aboard\")\n",
    "ax.set_title(\"Size of family aboard\")\n",
    "ax.set_xticklabels(ax.get_xticklabels(), rotation=0)\n",
    "\n",
    "# Show first entries\n",
    "data_wrangled[data_wrangled[\"Familysize\"]==11].head()"
   ]
  },
  {
   "cell_type": "markdown",
   "metadata": {},
   "source": [
    "## Shortcoming in the data\n",
    "First of all, the data contains only a subsample of the Titanic passengers. It is not clear if the sample has been obtained by random sampling or not. Therefore, conclusion that has been drawn on this subsample cannot be extended to the full population without further information.\n",
    "\n",
    "Also, there is no information on the crew in this dataset. It seems, that the crew is not part of this dataset, but I cannot state that with absolute certainty.\n",
    "\n",
    "The data description does not contain any information about the currency of the fares and how they might have been converted or even if to a reference currency. Some people share the same ticket number and it is not clear, whether the fare provided is a per ticket or a per passenger fare.\n",
    "\n",
    "For only very few passengers the cabins are provided. Therefore, these cannot be taken into account for further analyses."
   ]
  },
  {
   "cell_type": "markdown",
   "metadata": {},
   "source": [
    "# Answering the questions\n",
    "## Fares for different passenger classes"
   ]
  },
  {
   "cell_type": "markdown",
   "metadata": {},
   "source": [
    "I plot the fare also with a logarithmic x axis to cover a wide region of fares while simultaneously differenciating smaller fares."
   ]
  },
  {
   "cell_type": "code",
   "execution_count": 20,
   "metadata": {
    "collapsed": false
   },
   "outputs": [
    {
     "name": "stdout",
     "output_type": "stream",
     "text": [
      "Mode of fares for 1st class: 46.86\n",
      "Mode of fares for 2nd class: 20.34\n",
      "Mode of fares for 3rd class:  6.68\n",
      "\n",
      "Mean fares for passenger classes\n",
      "Pclass\n",
      "1    84.154687\n",
      "2    20.662183\n",
      "3    13.675550\n",
      "Name: Fare, dtype: float64\n",
      "\n",
      "Mean fares for passenger classes\n",
      "Pclass\n",
      "1    60.2875\n",
      "2    14.2500\n",
      "3     8.0500\n",
      "Name: Fare, dtype: float64\n"
     ]
    },
    {
     "data": {
      "image/png": "[encoded data removed]",
      "text/plain": [
       "<matplotlib.figure.Figure at 0xe24eeb8>"
      ]
     },
     "metadata": {},
     "output_type": "display_data"
    },
    {
     "data": {
      "image/png": "[encoded data removed]",
      "text/plain": [
       "<matplotlib.figure.Figure at 0x6729748>"
      ]
     },
     "metadata": {},
     "output_type": "display_data"
    }
   ],
   "source": [
    "# Extract fares for the three passenger classes\n",
    "fare_class_1 = data_wrangled[data_wrangled[\"Pclass\"]==1][\"Fare\"]\n",
    "fare_class_2 = data_wrangled[data_wrangled[\"Pclass\"]==2][\"Fare\"]\n",
    "fare_class_3 = data_wrangled[data_wrangled[\"Pclass\"]==3][\"Fare\"]\n",
    "\n",
    "# Plot fares\n",
    "plt.title('Histogram of fares')\n",
    "plt.xlabel(\"Passenger fare in pound\")\n",
    "plt.ylabel(\"Number of passengers per bin\")\n",
    "plt.hist([fare_class_1, fare_class_2, fare_class_3], stacked=True, label=[\"1st class\", \"2nd class\", \"3rd class\"])\n",
    "plt.legend()\n",
    "plt.figure()\n",
    "\n",
    "# Plot fares on a logrithmix x-axis\n",
    "a,b,c = plt.hist([fare_class_1, fare_class_2, fare_class_3], stacked=True, \\\n",
    "         bins=np.logspace(0.1,3, 25), label=[\"1st class\", \"2nd class\", \"3rd class\"])\n",
    "plt.gca().set_xscale(\"log\")\n",
    "plt.xlabel(\"Passenger fare in pound\")\n",
    "plt.ylabel(\"Number of passengers per bin\")\n",
    "plt.legend()\n",
    "\n",
    "# Print out the modes for the logarithmic histogram\n",
    "print \"Mode of fares for 1st class:\", \"%5.2f\" % (b[a[0].argmax()])\n",
    "print \"Mode of fares for 2nd class:\", \"%5.2f\" % (b[a[1].argmax()])\n",
    "print \"Mode of fares for 3rd class:\", \"%5.2f\" % (b[a[2].argmax()])\n",
    "print\n",
    "print \"Mean fares for passenger classes\"\n",
    "print data_wrangled.groupby(\"Pclass\").mean()[\"Fare\"]\n",
    "print\n",
    "print \"Mean fares for passenger classes\"\n",
    "print data_wrangled.groupby(\"Pclass\").median()[\"Fare\"]"
   ]
  },
  {
   "cell_type": "markdown",
   "metadata": {},
   "source": [
    "I conclude that the ticket price for the 3rd class started at 3.70 pound, but are mostly just around 8 pounds. Tickets for the 2nd class costed around 14 pounds. Ticket prices for the first class cover a wide range starting from 20 pounds to over 150 pounds. Surprisingly the ticket prices for the different classes overlap largely. This might be due an artifact in the data because ticket prices are not provided on a per passenger basis."
   ]
  },
  {
   "cell_type": "markdown",
   "metadata": {},
   "source": [
    "## Sex and Survival\n",
    "At first, I want to have a look at the number of survivors and victims per sex absolutly as well a relativly."
   ]
  },
  {
   "cell_type": "code",
   "execution_count": 21,
   "metadata": {
    "collapsed": false
   },
   "outputs": [
    {
     "data": {
      "image/png": "[encoded data removed]",
      "text/plain": [
       "<matplotlib.figure.Figure at 0xdfb0ef0>"
      ]
     },
     "metadata": {},
     "output_type": "display_data"
    },
    {
     "data": {
      "image/png": "[encoded data removed]",
      "text/plain": [
       "<matplotlib.figure.Figure at 0xd60b208>"
      ]
     },
     "metadata": {},
     "output_type": "display_data"
    }
   ],
   "source": [
    "# Function to plot absolute numbers and precentages of survivors and victims in given classes defined by column colname\n",
    "def plotSurvivalFor(colname):\n",
    "    df = data_wrangled[[\"Survived\", colname, \"PassengerId\"]].groupby([\"Survived\", colname]).count().unstack(\"Survived\",fill_value=0)\n",
    "    df.columns=[\"Died\", \"Survived\"]\n",
    "    ax = df[[0,1]].plot(kind=\"bar\")\n",
    "    ax.set_title(\"Survivors and victims per {}\".format(colname))\n",
    "    ax.set_ylabel(\"Number of passengers\")\n",
    "    \n",
    "    erg = df.apply(lambda row: row*100./float(sum(row)), axis=1)\n",
    "    ax = erg[[0,1]].plot(kind=\"bar\", stacked=True)\n",
    "    ax.set_ylabel(\"% of passengers\")\n",
    "    ax.set_title(\"Relative percentage of survivors and victims per {}\".format(colname))\n",
    "\n",
    "plotSurvivalFor(\"Sex\")\n"
   ]
  },
  {
   "cell_type": "markdown",
   "metadata": {
    "collapsed": true
   },
   "source": [
    "From the plots it seems that female passengers had a higher survival rate than others. Most of the men died, while more than 70% of the women survived. \n",
    "\n",
    "To test my intuition, I conduct a [chi-square test for independence](http://stattrek.com/chi-square-test/independence.aspx?Tutorial=AP). The alpha i choose for this test is .05.\n",
    "\n",
    "My hypthoses are\n",
    "H0: Sex and survival are independent. \n",
    "Ha: Sex and survival are not independent.\n",
    "\n",
    "Since there are 2 possible values for sex in this dataset and also two possible values for the survival categorie (died or survived) the number of degreed of freedom for this test is (2-1)(2-1)=1."
   ]
  },
  {
   "cell_type": "code",
   "execution_count": 22,
   "metadata": {
    "collapsed": false
   },
   "outputs": [
    {
     "name": "stdout",
     "output_type": "stream",
     "text": [
      "Female passengers: 314\n",
      "Male passengers: 577\n",
      "Female survivors: 233\n",
      "Male survivors: 109\n",
      "Female victims: 81\n",
      "Male victims: 468\n",
      "Survivors: 342\n",
      "Victims: 549\n",
      "Passengers in sample: 891\n",
      "Estimated male survivors given equal chance: 221.474747475\n",
      "Estimated female survivors given equal chance: 120.525252525\n",
      "Estimated male victims given equal chance: 355.525252525\n",
      "Estimated female victims given equal chance: 193.474747475\n"
     ]
    }
   ],
   "source": [
    "# Calculate some figures needed to calculate the chi square value\n",
    "n_per_sex = data_wrangled.groupby(\"Sex\").count()[\"PassengerId\"]\n",
    "n_male = n_per_sex.loc[\"male\"]\n",
    "n_female = n_per_sex.loc[\"female\"]\n",
    "\n",
    "print \"Female passengers:\", n_female\n",
    "print \"Male passengers:\", n_male\n",
    "\n",
    "n_male_survivors = data_wrangled.groupby([\"Sex\", \"Survived\"]).count()[\"PassengerId\"].loc[\"male\", 1]\n",
    "n_female_survivors = data_wrangled.groupby([\"Sex\", \"Survived\"]).count()[\"PassengerId\"].loc[\"female\", 1]\n",
    "n_male_victims = data_wrangled.groupby([\"Sex\", \"Survived\"]).count()[\"PassengerId\"].loc[\"male\", 0]\n",
    "n_female_victims = data_wrangled.groupby([\"Sex\", \"Survived\"]).count()[\"PassengerId\"].loc[\"female\", 0]\n",
    "\n",
    "print \"Female survivors:\", n_female_survivors\n",
    "print \"Male survivors:\", n_male_survivors\n",
    "print \"Female victims:\", n_female_victims\n",
    "print \"Male victims:\", n_male_victims\n",
    "\n",
    "n_per_survival = data_wrangled.groupby(\"Survived\").count()[\"PassengerId\"]\n",
    "n_survived = n_per_survival.loc[1]\n",
    "n_died = n_per_survival.loc[0]\n",
    "\n",
    "print \"Survivors:\", n_survived\n",
    "print \"Victims:\", n_died\n",
    "\n",
    "n_passengers = len(data_wrangled)\n",
    "\n",
    "print \"Passengers in sample:\", n_passengers\n",
    "\n",
    "E_male_survived = 1.* n_male * n_survived / n_passengers\n",
    "E_female_survived = 1.* n_female * n_survived / n_passengers\n",
    "\n",
    "print \"Estimated male survivors given equal chance:\", E_male_survived\n",
    "print \"Estimated female survivors given equal chance:\", E_female_survived\n",
    "\n",
    "E_male_died = 1.* n_male * n_died / n_passengers\n",
    "E_female_died = 1.* n_female * n_died / n_passengers\n",
    "\n",
    "print \"Estimated male victims given equal chance:\", E_male_died\n",
    "print \"Estimated female victims given equal chance:\", E_female_died\n"
   ]
  },
  {
   "cell_type": "code",
   "execution_count": 23,
   "metadata": {
    "collapsed": false
   },
   "outputs": [
    {
     "name": "stdout",
     "output_type": "stream",
     "text": [
      "263.050574071\n"
     ]
    }
   ],
   "source": [
    "# Calculate chi square value\n",
    "chi2_value = (n_male_survivors - E_male_survived)**2./E_male_survived +\\\n",
    "(n_female_survivors - E_female_survived)**2./E_female_survived +\\\n",
    "(n_male_victims - E_male_died)**2./E_male_died +\\\n",
    "(n_female_victims - E_female_died)**2./E_female_died \n",
    "print chi2_value\n"
   ]
  },
  {
   "cell_type": "code",
   "execution_count": 24,
   "metadata": {
    "collapsed": false
   },
   "outputs": [
    {
     "name": "stdout",
     "output_type": "stream",
     "text": [
      "0.0\n"
     ]
    }
   ],
   "source": [
    "# Convert chi squared value to probability\n",
    "from scipy.stats import chi2\n",
    "print 1-chi2.cdf(chi2_value, 1)"
   ]
  },
  {
   "cell_type": "markdown",
   "metadata": {},
   "source": [
    "The calculated chi squared value for the chi squared test of indepence is so huge (263), that the probability to obtain such a large chi squared value is approximately 0 for 1 degree of freedom. Therefore, the null hypothesis that the survival did not depend on the passengers sex has to be rejected."
   ]
  },
  {
   "cell_type": "code",
   "execution_count": null,
   "metadata": {
    "collapsed": true
   },
   "outputs": [],
   "source": []
  }
 ],
 "metadata": {
  "anaconda-cloud": {},
  "kernelspec": {
   "display_name": "Python [default]",
   "language": "python",
   "name": "python2"
  },
  "language_info": {
   "codemirror_mode": {
    "name": "ipython",
    "version": 2
   },
   "file_extension": ".py",
   "mimetype": "text/x-python",
   "name": "python",
   "nbconvert_exporter": "python",
   "pygments_lexer": "ipython2",
   "version": "2.7.12"
  }
 },
 "nbformat": 4,
 "nbformat_minor": 1
}
